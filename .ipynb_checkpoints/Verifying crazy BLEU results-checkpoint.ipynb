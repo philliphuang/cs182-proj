{
 "cells": [
  {
   "cell_type": "markdown",
   "metadata": {},
   "source": [
    "# Whoa bleu is great!"
   ]
  },
  {
   "cell_type": "code",
   "execution_count": 1,
   "metadata": {
    "collapsed": true
   },
   "outputs": [],
   "source": [
    "# import modules\n",
    "import pandas as pd\n",
    "import numpy as np\n",
    "import editdistance\n",
    "import nltk\n",
    "from modules.evaluation_metrics import recall_at_k"
   ]
  },
  {
   "cell_type": "code",
   "execution_count": 2,
   "metadata": {
    "collapsed": true
   },
   "outputs": [],
   "source": [
    "test = pd.read_csv(\"data/test.csv\")"
   ]
  },
  {
   "cell_type": "code",
   "execution_count": 3,
   "metadata": {
    "collapsed": true
   },
   "outputs": [],
   "source": [
    "def bleu_pred_bi(obs):\n",
    "    \n",
    "    context = obs[0].split()\n",
    "    \n",
    "    # list of scores\n",
    "    dists = [\n",
    "        nltk.translate.bleu_score.sentence_bleu(\n",
    "            obs[x].split(), \n",
    "            context, \n",
    "            weights=[0,1] # bigrams\n",
    "        ) \n",
    "        for x in range(1,11)\n",
    "    ]\n",
    "    \n",
    "    # dataframe for sorting\n",
    "    sort_df = pd.DataFrame({'choices': list(range(0,10)), 'distances': dists})\n",
    "    sort_df.sort_values(by='distances', inplace=True, ascending=False)\n",
    "    return sort_df"
   ]
  },
  {
   "cell_type": "code",
   "execution_count": 4,
   "metadata": {
    "collapsed": false
   },
   "outputs": [
    {
     "name": "stdout",
     "output_type": "stream",
     "text": [
      "0th row reached\n",
      "1000th row reached\n",
      "2000th row reached\n",
      "3000th row reached\n",
      "4000th row reached\n",
      "5000th row reached\n",
      "6000th row reached\n",
      "7000th row reached\n",
      "8000th row reached\n",
      "9000th row reached\n",
      "10000th row reached\n",
      "11000th row reached\n",
      "12000th row reached\n",
      "13000th row reached\n",
      "14000th row reached\n",
      "15000th row reached\n",
      "16000th row reached\n",
      "17000th row reached\n",
      "18000th row reached\n"
     ]
    }
   ],
   "source": [
    "answers = []\n",
    "for index, row in test.iterrows():\n",
    "    if index % 1000 == 0:\n",
    "        print str(index) + 'th row reached'\n",
    "    answers.append(bleu_pred_bi(row.tolist()))"
   ]
  },
  {
   "cell_type": "code",
   "execution_count": 7,
   "metadata": {
    "collapsed": false
   },
   "outputs": [
    {
     "data": {
      "text/plain": [
       "[[0, 1, 2, 4, 5, 6, 7, 3, 8, 9],\n",
       " [0, 1, 3, 4, 5, 6, 7, 8, 9, 2],\n",
       " [0, 1, 2, 3, 4, 5, 6, 7, 8, 9],\n",
       " [0, 1, 2, 4, 5, 6, 7, 8, 9, 3],\n",
       " [0, 1, 3, 4, 5, 6, 7, 8, 9, 2],\n",
       " [0, 1, 2, 3, 4, 5, 6, 7, 8, 9],\n",
       " [0, 1, 2, 3, 4, 5, 6, 7, 8, 9],\n",
       " [0, 1, 2, 3, 5, 6, 7, 8, 9, 4],\n",
       " [0, 1, 2, 3, 4, 5, 6, 7, 8, 9],\n",
       " [0, 1, 2, 3, 4, 5, 6, 7, 8, 9],\n",
       " [0, 1, 2, 3, 4, 5, 6, 7, 8, 9],\n",
       " [0, 1, 2, 3, 4, 5, 6, 7, 8, 9],\n",
       " [0, 1, 2, 5, 6, 7, 9, 3, 4, 8],\n",
       " [0, 1, 2, 3, 4, 5, 6, 7, 8, 9],\n",
       " [0, 1, 2, 3, 4, 5, 6, 7, 8, 9],\n",
       " [0, 1, 2, 3, 4, 5, 6, 7, 8, 9],\n",
       " [0, 1, 2, 3, 4, 5, 6, 8, 9, 7],\n",
       " [0, 1, 2, 3, 4, 5, 6, 8, 9, 7],\n",
       " [0, 1, 2, 3, 4, 5, 6, 7, 8, 9],\n",
       " [0, 2, 3, 4, 5, 6, 7, 9, 1, 8],\n",
       " [0, 1, 2, 3, 4, 5, 6, 7, 9, 8],\n",
       " [0, 1, 2, 3, 4, 5, 6, 7, 8, 9],\n",
       " [0, 1, 2, 3, 4, 5, 6, 7, 8, 9],\n",
       " [0, 1, 2, 3, 4, 5, 6, 7, 8, 9],\n",
       " [0, 1, 2, 3, 4, 5, 6, 7, 8, 9],\n",
       " [0, 1, 2, 3, 4, 5, 6, 9, 7, 8],\n",
       " [0, 1, 2, 3, 4, 5, 6, 7, 8, 9],\n",
       " [0, 1, 2, 4, 5, 6, 8, 3, 7, 9],\n",
       " [0, 1, 2, 3, 4, 5, 6, 7, 8, 9],\n",
       " [0, 1, 2, 3, 4, 5, 6, 8, 9, 7],\n",
       " [0, 2, 3, 4, 5, 6, 7, 8, 9, 1],\n",
       " [0, 3, 4, 6, 8, 9, 1, 2, 5, 7],\n",
       " [0, 1, 2, 5, 8, 9, 3, 4, 6, 7],\n",
       " [0, 1, 2, 3, 4, 5, 6, 7, 8, 9],\n",
       " [0, 1, 2, 3, 5, 6, 7, 8, 9, 4],\n",
       " [0, 1, 3, 4, 5, 6, 7, 8, 9, 2],\n",
       " [0, 1, 2, 3, 4, 5, 6, 7, 8, 9],\n",
       " [0, 1, 2, 3, 4, 5, 6, 7, 8, 9],\n",
       " [0, 1, 2, 5, 6, 7, 8, 9, 4, 3],\n",
       " [0, 1, 2, 3, 4, 5, 6, 7, 8, 9],\n",
       " [0, 1, 2, 3, 4, 5, 6, 7, 8, 9],\n",
       " [0, 1, 2, 3, 4, 5, 6, 7, 8, 9],\n",
       " [1, 5, 6, 9, 0, 2, 3, 4, 7, 8],\n",
       " [0, 1, 2, 3, 4, 5, 6, 7, 8, 9],\n",
       " [0, 1, 2, 3, 4, 5, 6, 8, 9, 7],\n",
       " [0, 1, 2, 3, 5, 6, 7, 8, 9, 4],\n",
       " [2, 3, 4, 5, 6, 7, 8, 9, 0, 1],\n",
       " [0, 1, 2, 3, 4, 5, 6, 7, 8, 9],\n",
       " [0, 1, 2, 3, 4, 5, 6, 7, 8, 9],\n",
       " [0, 1, 2, 3, 4, 5, 6, 7, 8, 9]]"
      ]
     },
     "execution_count": 7,
     "metadata": {},
     "output_type": "execute_result"
    }
   ],
   "source": [
    "answers[:50]"
   ]
  },
  {
   "cell_type": "code",
   "execution_count": 6,
   "metadata": {
    "collapsed": false
   },
   "outputs": [
    {
     "name": "stdout",
     "output_type": "stream",
     "text": [
      "Recall @ 1, 10 total choices: 0.891966\n",
      "Recall @ 2, 10 total choices: 0.901004\n",
      "Recall @ 5, 10 total choices: 0.9287\n",
      "Recall @ 10, 10 total choices: 1\n"
     ]
    }
   ],
   "source": [
    "for k in [1, 2, 5, 10]:\n",
    "    print(\"Recall @ {}, 10 total choices: {:g}\".format(k, recall_at_k(answers, k)))"
   ]
  },
  {
   "cell_type": "code",
   "execution_count": null,
   "metadata": {
    "collapsed": true
   },
   "outputs": [],
   "source": []
  }
 ],
 "metadata": {
  "anaconda-cloud": {},
  "kernelspec": {
   "display_name": "Python [Root]",
   "language": "python",
   "name": "Python [Root]"
  },
  "language_info": {
   "codemirror_mode": {
    "name": "ipython",
    "version": 2
   },
   "file_extension": ".py",
   "mimetype": "text/x-python",
   "name": "python",
   "nbconvert_exporter": "python",
   "pygments_lexer": "ipython2",
   "version": "2.7.12"
  }
 },
 "nbformat": 4,
 "nbformat_minor": 0
}
