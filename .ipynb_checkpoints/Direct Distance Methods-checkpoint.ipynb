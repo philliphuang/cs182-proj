{
 "cells": [
  {
   "cell_type": "markdown",
   "metadata": {},
   "source": [
    "# Recall@K with Simple Distance Methods\n",
    "- Edit Distance\n",
    "- BLEU"
   ]
  },
  {
   "cell_type": "code",
   "execution_count": 44,
   "metadata": {
    "collapsed": true
   },
   "outputs": [],
   "source": [
    "# import modules\n",
    "import pandas as pd\n",
    "import numpy as np\n",
    "import editdistance\n",
    "import nltk\n",
    "from modules.evaluation_metrics import recall_at_k"
   ]
  },
  {
   "cell_type": "code",
   "execution_count": 39,
   "metadata": {
    "collapsed": false
   },
   "outputs": [],
   "source": [
    "# Read in data\n",
    "train = pd.read_csv(\"data/train.csv\")\n",
    "test = pd.read_csv(\"data/test.csv\")\n",
    "valid = pd.read_csv(\"data/valid.csv\")"
   ]
  },
  {
   "cell_type": "code",
   "execution_count": 40,
   "metadata": {
    "collapsed": false
   },
   "outputs": [
    {
     "data": {
      "text/html": [
       "<div>\n",
       "<table border=\"1\" class=\"dataframe\">\n",
       "  <thead>\n",
       "    <tr style=\"text-align: right;\">\n",
       "      <th></th>\n",
       "      <th>Context</th>\n",
       "      <th>Ground Truth Utterance</th>\n",
       "      <th>Distractor_0</th>\n",
       "      <th>Distractor_1</th>\n",
       "      <th>Distractor_2</th>\n",
       "      <th>Distractor_3</th>\n",
       "      <th>Distractor_4</th>\n",
       "      <th>Distractor_5</th>\n",
       "      <th>Distractor_6</th>\n",
       "      <th>Distractor_7</th>\n",
       "      <th>Distractor_8</th>\n",
       "    </tr>\n",
       "  </thead>\n",
       "  <tbody>\n",
       "    <tr>\n",
       "      <th>0</th>\n",
       "      <td>anyon know whi my stock oneir export env var u...</td>\n",
       "      <td>nice thank ! __eou__</td>\n",
       "      <td>wrong channel for it , but check efnet.org , u...</td>\n",
       "      <td>everi time the kernel chang , you will lose vi...</td>\n",
       "      <td>ok __eou__</td>\n",
       "      <td>! nomodeset &gt; acer __eou__ i 'm assum it be a ...</td>\n",
       "      <td>http : //www.ubuntu.com/project/about-ubuntu/d...</td>\n",
       "      <td>thx __eou__ unfortun the program be n't instal...</td>\n",
       "      <td>how can i check ? by do a recoveri for test ? ...</td>\n",
       "      <td>my humbl apolog __eou__</td>\n",
       "      <td># ubuntu-offtop __eou__</td>\n",
       "    </tr>\n",
       "  </tbody>\n",
       "</table>\n",
       "</div>"
      ],
      "text/plain": [
       "                                             Context Ground Truth Utterance  \\\n",
       "0  anyon know whi my stock oneir export env var u...   nice thank ! __eou__   \n",
       "\n",
       "                                        Distractor_0  \\\n",
       "0  wrong channel for it , but check efnet.org , u...   \n",
       "\n",
       "                                        Distractor_1 Distractor_2  \\\n",
       "0  everi time the kernel chang , you will lose vi...   ok __eou__   \n",
       "\n",
       "                                        Distractor_3  \\\n",
       "0  ! nomodeset > acer __eou__ i 'm assum it be a ...   \n",
       "\n",
       "                                        Distractor_4  \\\n",
       "0  http : //www.ubuntu.com/project/about-ubuntu/d...   \n",
       "\n",
       "                                        Distractor_5  \\\n",
       "0  thx __eou__ unfortun the program be n't instal...   \n",
       "\n",
       "                                        Distractor_6             Distractor_7  \\\n",
       "0  how can i check ? by do a recoveri for test ? ...  my humbl apolog __eou__   \n",
       "\n",
       "              Distractor_8  \n",
       "0  # ubuntu-offtop __eou__  "
      ]
     },
     "execution_count": 40,
     "metadata": {},
     "output_type": "execute_result"
    }
   ],
   "source": [
    "test.head(1)"
   ]
  },
  {
   "cell_type": "markdown",
   "metadata": {},
   "source": [
    "## Edit Distance"
   ]
  },
  {
   "cell_type": "code",
   "execution_count": 41,
   "metadata": {
    "collapsed": true
   },
   "outputs": [],
   "source": [
    "def edit_dist_pred(obs):\n",
    "    \n",
    "    # list of distances\n",
    "    dists = [editdistance.eval(obs[0], obs[x]) for x in range(1,11)]\n",
    "    \n",
    "    # dataframe for sorting\n",
    "    sort_df = pd.DataFrame({'choices': list(range(0,10)), 'distances': dists})\n",
    "    sort_df.sort_values(by='distances', inplace=True)\n",
    "    return sort_df['choices'].tolist()"
   ]
  },
  {
   "cell_type": "code",
   "execution_count": 42,
   "metadata": {
    "collapsed": false
   },
   "outputs": [],
   "source": [
    "answers = []\n",
    "for index, row in test.iterrows():\n",
    "    answers.append(edit_dist_pred(row.tolist()))"
   ]
  },
  {
   "cell_type": "code",
   "execution_count": 43,
   "metadata": {
    "collapsed": false
   },
   "outputs": [
    {
     "name": "stdout",
     "output_type": "stream",
     "text": [
      "Recall @ 1, 10 total choices: 0.133087\n",
      "Recall @ 2, 10 total choices: 0.242072\n",
      "Recall @ 5, 10 total choices: 0.542653\n",
      "Recall @ 10, 10 total choices: 1\n"
     ]
    }
   ],
   "source": [
    "for k in [1, 2, 5, 10]:\n",
    "    print(\"Recall @ {}, 10 total choices: {:g}\".format(k, recall_at_k(answers, k)))"
   ]
  },
  {
   "cell_type": "markdown",
   "metadata": {},
   "source": [
    "## BLEU Score"
   ]
  },
  {
   "cell_type": "code",
   "execution_count": 90,
   "metadata": {
    "collapsed": true
   },
   "outputs": [],
   "source": [
    "def bleu_pred(obs):\n",
    "    \n",
    "    context = obs[0].split()\n",
    "    \n",
    "    # list of scores\n",
    "    dists = [\n",
    "        nltk.translate.bleu_score.sentence_bleu(\n",
    "            obs[x].split(), \n",
    "            context, \n",
    "            weights=[1] # unigrams\n",
    "        ) \n",
    "        for x in range(1,11)\n",
    "    ]\n",
    "    \n",
    "    # dataframe for sorting\n",
    "    sort_df = pd.DataFrame({'choices': list(range(0,10)), 'distances': dists})\n",
    "    sort_df.sort_values(by='distances', inplace=True, ascending=False)\n",
    "    return sort_df['choices'].tolist()"
   ]
  },
  {
   "cell_type": "code",
   "execution_count": 91,
   "metadata": {
    "collapsed": false
   },
   "outputs": [
    {
     "name": "stdout",
     "output_type": "stream",
     "text": [
      "0th row reached\n",
      "1000th row reached\n",
      "2000th row reached\n",
      "3000th row reached\n",
      "4000th row reached\n",
      "5000th row reached\n",
      "6000th row reached\n",
      "7000th row reached\n",
      "8000th row reached\n",
      "9000th row reached\n",
      "10000th row reached\n",
      "11000th row reached\n",
      "12000th row reached\n",
      "13000th row reached\n",
      "14000th row reached\n",
      "15000th row reached\n",
      "16000th row reached\n",
      "17000th row reached\n",
      "18000th row reached\n"
     ]
    }
   ],
   "source": [
    "answers = []\n",
    "for index, row in test.iterrows():\n",
    "    if index % 1000 == 0:\n",
    "        print str(index) + 'th row reached'\n",
    "    answers.append(bleu_pred(row.tolist()))"
   ]
  },
  {
   "cell_type": "code",
   "execution_count": 92,
   "metadata": {
    "collapsed": false
   },
   "outputs": [
    {
     "name": "stdout",
     "output_type": "stream",
     "text": [
      "Recall @ 1, 10 total choices: 0.220772\n",
      "Recall @ 2, 10 total choices: 0.378171\n",
      "Recall @ 5, 10 total choices: 0.710518\n",
      "Recall @ 10, 10 total choices: 1\n"
     ]
    }
   ],
   "source": [
    "for k in [1, 2, 5, 10]:\n",
    "    print(\"Recall @ {}, 10 total choices: {:g}\".format(k, recall_at_k(answers, k)))"
   ]
  }
 ],
 "metadata": {
  "anaconda-cloud": {},
  "kernelspec": {
   "display_name": "Python [Root]",
   "language": "python",
   "name": "Python [Root]"
  },
  "language_info": {
   "codemirror_mode": {
    "name": "ipython",
    "version": 2
   },
   "file_extension": ".py",
   "mimetype": "text/x-python",
   "name": "python",
   "nbconvert_exporter": "python",
   "pygments_lexer": "ipython2",
   "version": "2.7.12"
  }
 },
 "nbformat": 4,
 "nbformat_minor": 0
}
