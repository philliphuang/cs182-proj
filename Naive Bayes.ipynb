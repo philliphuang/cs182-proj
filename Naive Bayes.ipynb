{
 "cells": [
  {
   "cell_type": "markdown",
   "metadata": {},
   "source": [
    "# Naive Bayes System\n",
    "- Agglomerative Clustering vs. K-Means Clustering\n",
    "- Vectorization for clustering using Doc2Vec vs LDA vs. TF-IDF"
   ]
  },
  {
   "cell_type": "code",
   "execution_count": 2,
   "metadata": {
    "collapsed": false
   },
   "outputs": [],
   "source": [
    "import numpy as np\n",
    "import pandas as pd\n",
    "import pickle\n",
    "from sklearn.metrics.pairwise import cosine_similarity\n",
    "# from modules.naive_bayes import NaiveBayes\n",
    "from modules.evaluation_metrics import recall_at_k"
   ]
  },
  {
   "cell_type": "code",
   "execution_count": null,
   "metadata": {
    "collapsed": true
   },
   "outputs": [],
   "source": [
    "# Read in data\n",
    "train_data = pd.read_csv('') # class | features\n",
    "test_data = pd.read_csv('') # same as test, but now each string is a vector of features"
   ]
  },
  {
   "cell_type": "code",
   "execution_count": null,
   "metadata": {
    "collapsed": true
   },
   "outputs": [],
   "source": [
    "# train Naive Bayes\n",
    "nb_model = NaiveBayes(train_data)"
   ]
  },
  {
   "cell_type": "code",
   "execution_count": null,
   "metadata": {
    "collapsed": true
   },
   "outputs": [],
   "source": [
    "# generates ranking for naive bayes\n",
    "def naive_bayes_pred(model, obs):\n",
    "    \n",
    "    context = model.vectorize(obs[0])\n",
    "    \n",
    "    # list of scores\n",
    "    dists = [\n",
    "        cosine_similarity(model.vectorize(obs[x]), context) \n",
    "        for x in range(1,11)\n",
    "    ]\n",
    "    \n",
    "    # dataframe for sorting\n",
    "    sort_df = pd.DataFrame({'choices': list(range(0,10)), 'similarity': dists})\n",
    "    sort_df.sort_values(by='similarity', inplace=True, ascending=False)\n",
    "    return sort_df['choices'].tolist()"
   ]
  },
  {
   "cell_type": "code",
   "execution_count": null,
   "metadata": {
    "collapsed": true
   },
   "outputs": [],
   "source": [
    "answers = []\n",
    "for index, row in test_data.iterrows():\n",
    "    if index % 1000 == 0:\n",
    "        print str(index) + 'th row reached'\n",
    "    answers.append(naive_bayes_pred(nb_model, row.tolist()))"
   ]
  },
  {
   "cell_type": "code",
   "execution_count": null,
   "metadata": {
    "collapsed": true
   },
   "outputs": [],
   "source": [
    "for k in [1, 2, 5, 10]:\n",
    "    print(\"Recall @ {}, 10 total choices: {:g}\".format(k, recall_at_k(answers, k)))"
   ]
  }
 ],
 "metadata": {
  "kernelspec": {
   "display_name": "Python [Root]",
   "language": "python",
   "name": "Python [Root]"
  },
  "language_info": {
   "codemirror_mode": {
    "name": "ipython",
    "version": 2
   },
   "file_extension": ".py",
   "mimetype": "text/x-python",
   "name": "python",
   "nbconvert_exporter": "python",
   "pygments_lexer": "ipython2",
   "version": "2.7.12"
  }
 },
 "nbformat": 4,
 "nbformat_minor": 0
}
