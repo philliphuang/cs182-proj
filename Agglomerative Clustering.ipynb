{
 "cells": [
  {
   "cell_type": "markdown",
   "metadata": {},
   "source": [
    "# Agglomerative Clustering"
   ]
  },
  {
   "cell_type": "code",
   "execution_count": 1,
   "metadata": {
    "collapsed": false
   },
   "outputs": [
    {
     "name": "stderr",
     "output_type": "stream",
     "text": [
      "/Users/philliphuang/anaconda/lib/python2.7/site-packages/gensim/utils.py:1015: UserWarning: Pattern library is not installed, lemmatization won't be available.\n",
      "  warnings.warn(\"Pattern library is not installed, lemmatization won't be available.\")\n"
     ]
    }
   ],
   "source": [
    "from modules.agglom import *\n",
    "from sklearn.cluster import AgglomerativeClustering\n",
    "from IPython.core.interactiveshell import InteractiveShell\n",
    "InteractiveShell.ast_node_interactivity = \"all\"\n",
    "import collections\n",
    "from gensim.models import doc2vec"
   ]
  },
  {
   "cell_type": "code",
   "execution_count": 2,
   "metadata": {
    "collapsed": true
   },
   "outputs": [],
   "source": [
    "train = pd.read_csv(\"data/train.csv\")\n",
    "test = pd.read_csv(\"data/test.csv\")\n",
    "valid = pd.read_csv(\"data/valid.csv\")"
   ]
  },
  {
   "cell_type": "markdown",
   "metadata": {},
   "source": [
    "## Edit Distance"
   ]
  },
  {
   "cell_type": "code",
   "execution_count": 3,
   "metadata": {
    "collapsed": false
   },
   "outputs": [],
   "source": [
    "train_subset = train['Context'][:1000].tolist()"
   ]
  },
  {
   "cell_type": "code",
   "execution_count": 4,
   "metadata": {
    "collapsed": false
   },
   "outputs": [],
   "source": [
    "edit_matrix = dist_matrix(train_subset, 'edit')\n",
    "# bleu_matrix = dist_matrix(train_subset, 'bleu')"
   ]
  },
  {
   "cell_type": "code",
   "execution_count": 5,
   "metadata": {
    "collapsed": false
   },
   "outputs": [],
   "source": [
    "agc_model = AgglomerativeClustering(n_clusters=50, affinity='precomputed', linkage='average')\n",
    "clusters = agc_model.fit_predict(edit_matrix, train_subset)\n",
    "# print agc_model.fit_predict(bleu_matrix, train_subset)"
   ]
  },
  {
   "cell_type": "code",
   "execution_count": 6,
   "metadata": {
    "collapsed": false
   },
   "outputs": [
    {
     "data": {
      "text/plain": [
       "Counter({0: 56,\n",
       "         1: 896,\n",
       "         2: 1,\n",
       "         3: 1,\n",
       "         4: 1,\n",
       "         5: 1,\n",
       "         6: 1,\n",
       "         7: 1,\n",
       "         8: 1,\n",
       "         9: 1,\n",
       "         10: 1,\n",
       "         11: 1,\n",
       "         12: 1,\n",
       "         13: 1,\n",
       "         14: 1,\n",
       "         15: 1,\n",
       "         16: 1,\n",
       "         17: 1,\n",
       "         18: 1,\n",
       "         19: 1,\n",
       "         20: 1,\n",
       "         21: 1,\n",
       "         22: 1,\n",
       "         23: 1,\n",
       "         24: 1,\n",
       "         25: 1,\n",
       "         26: 1,\n",
       "         27: 1,\n",
       "         28: 1,\n",
       "         29: 1,\n",
       "         30: 1,\n",
       "         31: 1,\n",
       "         32: 1,\n",
       "         33: 1,\n",
       "         34: 1,\n",
       "         35: 1,\n",
       "         36: 1,\n",
       "         37: 1,\n",
       "         38: 1,\n",
       "         39: 1,\n",
       "         40: 1,\n",
       "         41: 1,\n",
       "         42: 1,\n",
       "         43: 1,\n",
       "         44: 1,\n",
       "         45: 1,\n",
       "         46: 1,\n",
       "         47: 1,\n",
       "         48: 1,\n",
       "         49: 1})"
      ]
     },
     "execution_count": 6,
     "metadata": {},
     "output_type": "execute_result"
    }
   ],
   "source": [
    "collections.Counter(clusters)"
   ]
  },
  {
   "cell_type": "markdown",
   "metadata": {},
   "source": [
    "## Doc2Vec"
   ]
  },
  {
   "cell_type": "code",
   "execution_count": 7,
   "metadata": {
    "collapsed": false
   },
   "outputs": [],
   "source": [
    "d2v2 = doc2vec.Doc2Vec.load('d2v_models/d2v_size200_iter20')"
   ]
  },
  {
   "cell_type": "code",
   "execution_count": 8,
   "metadata": {
    "collapsed": true
   },
   "outputs": [],
   "source": [
    "# Create array of doc2vec vectors\n",
    "X = []\n",
    "for v in d2v2.docvecs:\n",
    "    X.append(v)\n",
    "\n",
    "X = np.array(X)"
   ]
  },
  {
   "cell_type": "code",
   "execution_count": 9,
   "metadata": {
    "collapsed": true
   },
   "outputs": [],
   "source": [
    "X_subset = X[:1000,:]"
   ]
  },
  {
   "cell_type": "code",
   "execution_count": null,
   "metadata": {
    "collapsed": false
   },
   "outputs": [
    {
     "data": {
      "text/plain": [
       "(1000, 200)"
      ]
     },
     "execution_count": 10,
     "metadata": {},
     "output_type": "execute_result"
    }
   ],
   "source": [
    "X_subset.shape"
   ]
  },
  {
   "cell_type": "code",
   "execution_count": null,
   "metadata": {
    "collapsed": false
   },
   "outputs": [],
   "source": [
    "# fit agc on Doc2Vec\n",
    "agc_model_d2v = AgglomerativeClustering(n_clusters=2, affinity='cosine', linkage='average')\n",
    "clusters_d2v = agc_model_d2v.fit_predict(X)"
   ]
  },
  {
   "cell_type": "code",
   "execution_count": null,
   "metadata": {
    "collapsed": false
   },
   "outputs": [],
   "source": [
    "collections.Counter(clusters_d2v)"
   ]
  },
  {
   "cell_type": "code",
   "execution_count": null,
   "metadata": {
    "collapsed": true
   },
   "outputs": [],
   "source": []
  }
 ],
 "metadata": {
  "kernelspec": {
   "display_name": "Python [Root]",
   "language": "python",
   "name": "Python [Root]"
  },
  "language_info": {
   "codemirror_mode": {
    "name": "ipython",
    "version": 2
   },
   "file_extension": ".py",
   "mimetype": "text/x-python",
   "name": "python",
   "nbconvert_exporter": "python",
   "pygments_lexer": "ipython2",
   "version": "2.7.12"
  }
 },
 "nbformat": 4,
 "nbformat_minor": 0
}
