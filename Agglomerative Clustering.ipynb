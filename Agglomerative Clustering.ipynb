{
 "cells": [
  {
   "cell_type": "markdown",
   "metadata": {},
   "source": [
    "# Agglomerative Clustering"
   ]
  },
  {
   "cell_type": "code",
   "execution_count": 22,
   "metadata": {
    "collapsed": false
   },
   "outputs": [],
   "source": [
    "from modules.agglom import *\n",
    "from sklearn.cluster import AgglomerativeClustering\n",
    "from IPython.core.interactiveshell import InteractiveShell\n",
    "InteractiveShell.ast_node_interactivity = \"all\"\n",
    "import collections\n",
    "from gensim.models import doc2vec"
   ]
  },
  {
   "cell_type": "code",
   "execution_count": 2,
   "metadata": {
    "collapsed": true
   },
   "outputs": [],
   "source": [
    "train = pd.read_csv(\"data/train.csv\")\n",
    "test = pd.read_csv(\"data/test.csv\")\n",
    "valid = pd.read_csv(\"data/valid.csv\")"
   ]
  },
  {
   "cell_type": "markdown",
   "metadata": {},
   "source": [
    "## Edit Distance"
   ]
  },
  {
   "cell_type": "code",
   "execution_count": 3,
   "metadata": {
    "collapsed": false
   },
   "outputs": [],
   "source": [
    "train_subset = train['Context'][:500].tolist()"
   ]
  },
  {
   "cell_type": "code",
   "execution_count": 4,
   "metadata": {
    "collapsed": false
   },
   "outputs": [],
   "source": [
    "edit_matrix = dist_matrix(train_subset, 'edit')\n",
    "# bleu_matrix = dist_matrix(train_subset, 'bleu')"
   ]
  },
  {
   "cell_type": "code",
   "execution_count": 5,
   "metadata": {
    "collapsed": false
   },
   "outputs": [],
   "source": [
    "agc_model = AgglomerativeClustering(n_clusters=50, affinity='precomputed', linkage='average')\n",
    "clusters = agc_model.fit_predict(edit_matrix, train_subset)\n",
    "# print agc_model.fit_predict(bleu_matrix, train_subset)"
   ]
  },
  {
   "cell_type": "code",
   "execution_count": 6,
   "metadata": {
    "collapsed": false,
    "scrolled": true
   },
   "outputs": [
    {
     "data": {
      "text/plain": [
       "Counter({0: 22,\n",
       "         1: 1,\n",
       "         2: 430,\n",
       "         3: 1,\n",
       "         4: 1,\n",
       "         5: 1,\n",
       "         6: 1,\n",
       "         7: 1,\n",
       "         8: 1,\n",
       "         9: 1,\n",
       "         10: 1,\n",
       "         11: 1,\n",
       "         12: 1,\n",
       "         13: 1,\n",
       "         14: 1,\n",
       "         15: 1,\n",
       "         16: 1,\n",
       "         17: 1,\n",
       "         18: 1,\n",
       "         19: 1,\n",
       "         20: 1,\n",
       "         21: 1,\n",
       "         22: 1,\n",
       "         23: 1,\n",
       "         24: 1,\n",
       "         25: 1,\n",
       "         26: 1,\n",
       "         27: 1,\n",
       "         28: 1,\n",
       "         29: 1,\n",
       "         30: 1,\n",
       "         31: 1,\n",
       "         32: 1,\n",
       "         33: 1,\n",
       "         34: 1,\n",
       "         35: 1,\n",
       "         36: 1,\n",
       "         37: 1,\n",
       "         38: 1,\n",
       "         39: 1,\n",
       "         40: 1,\n",
       "         41: 1,\n",
       "         42: 1,\n",
       "         43: 1,\n",
       "         44: 1,\n",
       "         45: 1,\n",
       "         46: 1,\n",
       "         47: 1,\n",
       "         48: 1,\n",
       "         49: 1})"
      ]
     },
     "execution_count": 6,
     "metadata": {},
     "output_type": "execute_result"
    }
   ],
   "source": [
    "collections.Counter(clusters)"
   ]
  },
  {
   "cell_type": "markdown",
   "metadata": {},
   "source": [
    "## Doc2Vec"
   ]
  },
  {
   "cell_type": "code",
   "execution_count": 3,
   "metadata": {
    "collapsed": false
   },
   "outputs": [],
   "source": [
    "d2v2 = doc2vec.Doc2Vec.load('d2v_models/d2v_size200_iter20')"
   ]
  },
  {
   "cell_type": "code",
   "execution_count": 4,
   "metadata": {
    "collapsed": true
   },
   "outputs": [],
   "source": [
    "# Create array of doc2vec vectors\n",
    "X = []\n",
    "for v in d2v2.docvecs:\n",
    "    X.append(v)\n",
    "\n",
    "X = np.array(X)"
   ]
  },
  {
   "cell_type": "code",
   "execution_count": 18,
   "metadata": {
    "collapsed": true
   },
   "outputs": [],
   "source": [
    "X_subset = X[:1000,:]"
   ]
  },
  {
   "cell_type": "code",
   "execution_count": 19,
   "metadata": {
    "collapsed": false
   },
   "outputs": [
    {
     "data": {
      "text/plain": [
       "(1000, 200)"
      ]
     },
     "execution_count": 19,
     "metadata": {},
     "output_type": "execute_result"
    }
   ],
   "source": [
    "X_subset.shape"
   ]
  },
  {
   "cell_type": "code",
   "execution_count": 20,
   "metadata": {
    "collapsed": false
   },
   "outputs": [],
   "source": [
    "# fit agc on Doc2Vec\n",
    "agc_model_d2v = AgglomerativeClustering(n_clusters=50, affinity='cosine', linkage='average')\n",
    "clusters_d2v = agc_model_d2v.fit_predict(X_subset)"
   ]
  },
  {
   "cell_type": "code",
   "execution_count": 21,
   "metadata": {
    "collapsed": false
   },
   "outputs": [
    {
     "data": {
      "text/plain": [
       "Counter({0: 23,\n",
       "         1: 23,\n",
       "         2: 183,\n",
       "         3: 12,\n",
       "         4: 125,\n",
       "         5: 18,\n",
       "         6: 20,\n",
       "         7: 28,\n",
       "         8: 25,\n",
       "         9: 20,\n",
       "         10: 10,\n",
       "         11: 12,\n",
       "         12: 34,\n",
       "         13: 9,\n",
       "         14: 30,\n",
       "         15: 21,\n",
       "         16: 22,\n",
       "         17: 15,\n",
       "         18: 15,\n",
       "         19: 11,\n",
       "         20: 9,\n",
       "         21: 16,\n",
       "         22: 19,\n",
       "         23: 21,\n",
       "         24: 17,\n",
       "         25: 12,\n",
       "         26: 7,\n",
       "         27: 7,\n",
       "         28: 12,\n",
       "         29: 14,\n",
       "         30: 10,\n",
       "         31: 6,\n",
       "         32: 27,\n",
       "         33: 6,\n",
       "         34: 9,\n",
       "         35: 7,\n",
       "         36: 12,\n",
       "         37: 5,\n",
       "         38: 18,\n",
       "         39: 22,\n",
       "         40: 6,\n",
       "         41: 4,\n",
       "         42: 7,\n",
       "         43: 8,\n",
       "         44: 5,\n",
       "         45: 8,\n",
       "         46: 5,\n",
       "         47: 12,\n",
       "         48: 23,\n",
       "         49: 10})"
      ]
     },
     "execution_count": 21,
     "metadata": {},
     "output_type": "execute_result"
    }
   ],
   "source": [
    "collections.Counter(clusters_d2v)"
   ]
  },
  {
   "cell_type": "code",
   "execution_count": null,
   "metadata": {
    "collapsed": true
   },
   "outputs": [],
   "source": []
  }
 ],
 "metadata": {
  "kernelspec": {
   "display_name": "Python [Root]",
   "language": "python",
   "name": "Python [Root]"
  },
  "language_info": {
   "codemirror_mode": {
    "name": "ipython",
    "version": 2
   },
   "file_extension": ".py",
   "mimetype": "text/x-python",
   "name": "python",
   "nbconvert_exporter": "python",
   "pygments_lexer": "ipython2",
   "version": "2.7.12"
  }
 },
 "nbformat": 4,
 "nbformat_minor": 0
}
