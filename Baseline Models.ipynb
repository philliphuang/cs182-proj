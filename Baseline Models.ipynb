{
 "cells": [
  {
   "cell_type": "markdown",
   "metadata": {},
   "source": [
    "# Baseline Models\n",
    "Basic baseline models using completely random predictor, TF-IDF and word2vec methods for vectorizing messages. Evaluation using recall@k on test set with cosine similarity."
   ]
  },
  {
   "cell_type": "code",
   "execution_count": 6,
   "metadata": {
    "collapsed": false
   },
   "outputs": [],
   "source": [
    "import urllib\n",
    "import pickle\n",
    "import editdistance\n",
    "from operator import itemgetter\n",
    "from sklearn.manifold import TSNE\n",
    "import numpy as np\n",
    "import pandas as pd\n",
    "import math\n",
    "from copy import copy\n",
    "from gensim.models import doc2vec, word2vec\n",
    "from collections import namedtuple\n",
    "from sklearn.feature_extraction.text import TfidfVectorizer\n",
    "\n",
    "from evaluation_metrics import recall_at_k\n",
    "import tfidf"
   ]
  },
  {
   "cell_type": "code",
   "execution_count": 2,
   "metadata": {
    "collapsed": false
   },
   "outputs": [],
   "source": [
    "# Read in data\n",
    "train = pd.read_csv(\"data/train.csv\")\n",
    "test = pd.read_csv(\"data/test.csv\")\n",
    "valid = pd.read_csv(\"data/valid.csv\")"
   ]
  },
  {
   "cell_type": "code",
   "execution_count": 7,
   "metadata": {
    "collapsed": false
   },
   "outputs": [
    {
     "name": "stdout",
     "output_type": "stream",
     "text": [
      "(1000000, 3)\n"
     ]
    },
    {
     "data": {
      "text/html": [
       "<div>\n",
       "<table border=\"1\" class=\"dataframe\">\n",
       "  <thead>\n",
       "    <tr style=\"text-align: right;\">\n",
       "      <th></th>\n",
       "      <th>Context</th>\n",
       "      <th>Utterance</th>\n",
       "      <th>Label</th>\n",
       "    </tr>\n",
       "  </thead>\n",
       "  <tbody>\n",
       "    <tr>\n",
       "      <th>0</th>\n",
       "      <td>i think we could import the old comment via rs...</td>\n",
       "      <td>basic each xfree86 upload will not forc user t...</td>\n",
       "      <td>1</td>\n",
       "    </tr>\n",
       "    <tr>\n",
       "      <th>1</th>\n",
       "      <td>i 'm not suggest all - onli the one you modifi...</td>\n",
       "      <td>sorri __eou__ i think it be ubuntu relat . __e...</td>\n",
       "      <td>0</td>\n",
       "    </tr>\n",
       "    <tr>\n",
       "      <th>2</th>\n",
       "      <td>afternoon all __eou__ not entir relat to warti...</td>\n",
       "      <td>yep . __eou__ oh , okay . i wonder what happen...</td>\n",
       "      <td>0</td>\n",
       "    </tr>\n",
       "    <tr>\n",
       "      <th>3</th>\n",
       "      <td>interest __eou__ grub-instal work with / be ex...</td>\n",
       "      <td>that the one __eou__</td>\n",
       "      <td>1</td>\n",
       "    </tr>\n",
       "    <tr>\n",
       "      <th>4</th>\n",
       "      <td>and becaus python give mark a woodi __eou__ __...</td>\n",
       "      <td>( i think someon be go to make a joke about .a...</td>\n",
       "      <td>1</td>\n",
       "    </tr>\n",
       "  </tbody>\n",
       "</table>\n",
       "</div>"
      ],
      "text/plain": [
       "                                             Context  \\\n",
       "0  i think we could import the old comment via rs...   \n",
       "1  i 'm not suggest all - onli the one you modifi...   \n",
       "2  afternoon all __eou__ not entir relat to warti...   \n",
       "3  interest __eou__ grub-instal work with / be ex...   \n",
       "4  and becaus python give mark a woodi __eou__ __...   \n",
       "\n",
       "                                           Utterance  Label  \n",
       "0  basic each xfree86 upload will not forc user t...      1  \n",
       "1  sorri __eou__ i think it be ubuntu relat . __e...      0  \n",
       "2  yep . __eou__ oh , okay . i wonder what happen...      0  \n",
       "3                               that the one __eou__      1  \n",
       "4  ( i think someon be go to make a joke about .a...      1  "
      ]
     },
     "execution_count": 7,
     "metadata": {},
     "output_type": "execute_result"
    }
   ],
   "source": [
    "print train.shape\n",
    "train.head()"
   ]
  },
  {
   "cell_type": "code",
   "execution_count": 8,
   "metadata": {
    "collapsed": false
   },
   "outputs": [
    {
     "name": "stdout",
     "output_type": "stream",
     "text": [
      "(18920, 11)\n"
     ]
    },
    {
     "data": {
      "text/html": [
       "<div>\n",
       "<table border=\"1\" class=\"dataframe\">\n",
       "  <thead>\n",
       "    <tr style=\"text-align: right;\">\n",
       "      <th></th>\n",
       "      <th>Context</th>\n",
       "      <th>Ground Truth Utterance</th>\n",
       "      <th>Distractor_0</th>\n",
       "      <th>Distractor_1</th>\n",
       "      <th>Distractor_2</th>\n",
       "      <th>Distractor_3</th>\n",
       "      <th>Distractor_4</th>\n",
       "      <th>Distractor_5</th>\n",
       "      <th>Distractor_6</th>\n",
       "      <th>Distractor_7</th>\n",
       "      <th>Distractor_8</th>\n",
       "    </tr>\n",
       "  </thead>\n",
       "  <tbody>\n",
       "    <tr>\n",
       "      <th>0</th>\n",
       "      <td>anyon know whi my stock oneir export env var u...</td>\n",
       "      <td>nice thank ! __eou__</td>\n",
       "      <td>wrong channel for it , but check efnet.org , u...</td>\n",
       "      <td>everi time the kernel chang , you will lose vi...</td>\n",
       "      <td>ok __eou__</td>\n",
       "      <td>! nomodeset &gt; acer __eou__ i 'm assum it be a ...</td>\n",
       "      <td>http : //www.ubuntu.com/project/about-ubuntu/d...</td>\n",
       "      <td>thx __eou__ unfortun the program be n't instal...</td>\n",
       "      <td>how can i check ? by do a recoveri for test ? ...</td>\n",
       "      <td>my humbl apolog __eou__</td>\n",
       "      <td># ubuntu-offtop __eou__</td>\n",
       "    </tr>\n",
       "    <tr>\n",
       "      <th>1</th>\n",
       "      <td>i set up my hd such that i have to type a pass...</td>\n",
       "      <td>so you dont know , ok , anyon els ? __eou__ yo...</td>\n",
       "      <td>nmap be nice , but it be n't what i be look fo...</td>\n",
       "      <td>ok __eou__</td>\n",
       "      <td>cdrom work fine on window . __eou__ i dont thi...</td>\n",
       "      <td>ah yes , i have read return as rerun __eou__</td>\n",
       "      <td>hm ? __eou__</td>\n",
       "      <td>not the case , lts be everi other .04 releas ....</td>\n",
       "      <td>pretti much __eou__</td>\n",
       "      <td>i use the one i download from amd __eou__</td>\n",
       "      <td>ffmpeg be part of the packag , quixotedon , at...</td>\n",
       "    </tr>\n",
       "    <tr>\n",
       "      <th>2</th>\n",
       "      <td>im tri to use ubuntu on my macbook pro retina ...</td>\n",
       "      <td>just wonder how it run __eou__</td>\n",
       "      <td>yes , that 's what i do , export it to a `` id...</td>\n",
       "      <td>noth - i be talk about the question of myhero ...</td>\n",
       "      <td>that should fix the font be too larg __eou__</td>\n",
       "      <td>okay , so hcitool echo back hci0 &lt; mac address...</td>\n",
       "      <td>i get to the menu with option such as tri ubun...</td>\n",
       "      <td>whi do u need analyz __eou__ it be a toy __eou...</td>\n",
       "      <td>cntrl-c may stop the command but it doe n't fi...</td>\n",
       "      <td>if you re onli go to run ubuntu , just get a n...</td>\n",
       "      <td>the one which be not pick up at the moment be ...</td>\n",
       "    </tr>\n",
       "    <tr>\n",
       "      <th>3</th>\n",
       "      <td>no suggest ? __eou__ link ? __eou__ how can i ...</td>\n",
       "      <td>you cant load anyth via usb or cd when luk be ...</td>\n",
       "      <td>-p sorri ... __eou__ nmap -p22 __eou__ it doe ...</td>\n",
       "      <td>i guess so i ca n't even launch it . __eou__</td>\n",
       "      <td>note __eou__</td>\n",
       "      <td>rxvt-unicod be one __eou__</td>\n",
       "      <td>i tar all of ~ __eou__</td>\n",
       "      <td>i tar all of ~ __eou__</td>\n",
       "      <td>i do n't realli know if i can help , but i be ...</td>\n",
       "      <td>that work just fine , thank ! __eou__</td>\n",
       "      <td>thank you __eou__</td>\n",
       "    </tr>\n",
       "    <tr>\n",
       "      <th>4</th>\n",
       "      <td>i just ad a second usb printer but not sure wh...</td>\n",
       "      <td>i be set it up under the printer configur __eo...</td>\n",
       "      <td>i 'd say the most common venu would be via lau...</td>\n",
       "      <td>the old hardi man page , http : //manpages.ubu...</td>\n",
       "      <td>i ll give a tri __eou__</td>\n",
       "      <td>by the way , the url you post for davf be from...</td>\n",
       "      <td>http : //ubuntuforums.org/showthread.php ? t=1...</td>\n",
       "      <td>so i load up putti gui , then what do i do ? _...</td>\n",
       "      <td>you should read error messag , it say be you r...</td>\n",
       "      <td>wait the colleg semest to close just to make s...</td>\n",
       "      <td>i be call myself a jerk . all i know be that y...</td>\n",
       "    </tr>\n",
       "  </tbody>\n",
       "</table>\n",
       "</div>"
      ],
      "text/plain": [
       "                                             Context  \\\n",
       "0  anyon know whi my stock oneir export env var u...   \n",
       "1  i set up my hd such that i have to type a pass...   \n",
       "2  im tri to use ubuntu on my macbook pro retina ...   \n",
       "3  no suggest ? __eou__ link ? __eou__ how can i ...   \n",
       "4  i just ad a second usb printer but not sure wh...   \n",
       "\n",
       "                              Ground Truth Utterance  \\\n",
       "0                               nice thank ! __eou__   \n",
       "1  so you dont know , ok , anyon els ? __eou__ yo...   \n",
       "2                     just wonder how it run __eou__   \n",
       "3  you cant load anyth via usb or cd when luk be ...   \n",
       "4  i be set it up under the printer configur __eo...   \n",
       "\n",
       "                                        Distractor_0  \\\n",
       "0  wrong channel for it , but check efnet.org , u...   \n",
       "1  nmap be nice , but it be n't what i be look fo...   \n",
       "2  yes , that 's what i do , export it to a `` id...   \n",
       "3  -p sorri ... __eou__ nmap -p22 __eou__ it doe ...   \n",
       "4  i 'd say the most common venu would be via lau...   \n",
       "\n",
       "                                        Distractor_1  \\\n",
       "0  everi time the kernel chang , you will lose vi...   \n",
       "1                                         ok __eou__   \n",
       "2  noth - i be talk about the question of myhero ...   \n",
       "3       i guess so i ca n't even launch it . __eou__   \n",
       "4  the old hardi man page , http : //manpages.ubu...   \n",
       "\n",
       "                                        Distractor_2  \\\n",
       "0                                         ok __eou__   \n",
       "1  cdrom work fine on window . __eou__ i dont thi...   \n",
       "2       that should fix the font be too larg __eou__   \n",
       "3                                       note __eou__   \n",
       "4                            i ll give a tri __eou__   \n",
       "\n",
       "                                        Distractor_3  \\\n",
       "0  ! nomodeset > acer __eou__ i 'm assum it be a ...   \n",
       "1       ah yes , i have read return as rerun __eou__   \n",
       "2  okay , so hcitool echo back hci0 < mac address...   \n",
       "3                         rxvt-unicod be one __eou__   \n",
       "4  by the way , the url you post for davf be from...   \n",
       "\n",
       "                                        Distractor_4  \\\n",
       "0  http : //www.ubuntu.com/project/about-ubuntu/d...   \n",
       "1                                       hm ? __eou__   \n",
       "2  i get to the menu with option such as tri ubun...   \n",
       "3                             i tar all of ~ __eou__   \n",
       "4  http : //ubuntuforums.org/showthread.php ? t=1...   \n",
       "\n",
       "                                        Distractor_5  \\\n",
       "0  thx __eou__ unfortun the program be n't instal...   \n",
       "1  not the case , lts be everi other .04 releas ....   \n",
       "2  whi do u need analyz __eou__ it be a toy __eou...   \n",
       "3                             i tar all of ~ __eou__   \n",
       "4  so i load up putti gui , then what do i do ? _...   \n",
       "\n",
       "                                        Distractor_6  \\\n",
       "0  how can i check ? by do a recoveri for test ? ...   \n",
       "1                                pretti much __eou__   \n",
       "2  cntrl-c may stop the command but it doe n't fi...   \n",
       "3  i do n't realli know if i can help , but i be ...   \n",
       "4  you should read error messag , it say be you r...   \n",
       "\n",
       "                                        Distractor_7  \\\n",
       "0                            my humbl apolog __eou__   \n",
       "1          i use the one i download from amd __eou__   \n",
       "2  if you re onli go to run ubuntu , just get a n...   \n",
       "3              that work just fine , thank ! __eou__   \n",
       "4  wait the colleg semest to close just to make s...   \n",
       "\n",
       "                                        Distractor_8  \n",
       "0                            # ubuntu-offtop __eou__  \n",
       "1  ffmpeg be part of the packag , quixotedon , at...  \n",
       "2  the one which be not pick up at the moment be ...  \n",
       "3                                  thank you __eou__  \n",
       "4  i be call myself a jerk . all i know be that y...  "
      ]
     },
     "execution_count": 8,
     "metadata": {},
     "output_type": "execute_result"
    }
   ],
   "source": [
    "print test.shape\n",
    "test.head()"
   ]
  },
  {
   "cell_type": "code",
   "execution_count": 15,
   "metadata": {
    "collapsed": false
   },
   "outputs": [
    {
     "name": "stdout",
     "output_type": "stream",
     "text": [
      "Context                   anyon know whi my stock oneir export env var u...\n",
      "Ground Truth Utterance                                 nice thank ! __eou__\n",
      "Distractor_0              wrong channel for it , but check efnet.org , u...\n",
      "Distractor_1              everi time the kernel chang , you will lose vi...\n",
      "Distractor_2                                                     ok __eou__\n",
      "Distractor_3              ! nomodeset > acer __eou__ i 'm assum it be a ...\n",
      "Distractor_4              http : //www.ubuntu.com/project/about-ubuntu/d...\n",
      "Distractor_5              thx __eou__ unfortun the program be n't instal...\n",
      "Distractor_6              how can i check ? by do a recoveri for test ? ...\n",
      "Distractor_7                                        my humbl apolog __eou__\n",
      "Distractor_8                                        # ubuntu-offtop __eou__\n",
      "Name: 0, dtype: object\n"
     ]
    }
   ],
   "source": [
    "print test.iloc[0]"
   ]
  },
  {
   "cell_type": "code",
   "execution_count": 10,
   "metadata": {
    "collapsed": false
   },
   "outputs": [
    {
     "name": "stdout",
     "output_type": "stream",
     "text": [
      "(19560, 11)\n"
     ]
    },
    {
     "data": {
      "text/html": [
       "<div>\n",
       "<table border=\"1\" class=\"dataframe\">\n",
       "  <thead>\n",
       "    <tr style=\"text-align: right;\">\n",
       "      <th></th>\n",
       "      <th>Context</th>\n",
       "      <th>Ground Truth Utterance</th>\n",
       "      <th>Distractor_0</th>\n",
       "      <th>Distractor_1</th>\n",
       "      <th>Distractor_2</th>\n",
       "      <th>Distractor_3</th>\n",
       "      <th>Distractor_4</th>\n",
       "      <th>Distractor_5</th>\n",
       "      <th>Distractor_6</th>\n",
       "      <th>Distractor_7</th>\n",
       "      <th>Distractor_8</th>\n",
       "    </tr>\n",
       "  </thead>\n",
       "  <tbody>\n",
       "    <tr>\n",
       "      <th>0</th>\n",
       "      <td>ani idea on how lts will be releas ? __eou__ _...</td>\n",
       "      <td>we be talk 12.04 not 10.04 __eou__</td>\n",
       "      <td>you rememb my flash issu from yesterday or the...</td>\n",
       "      <td>oh , no idea other be probabl ok __eou__ updat...</td>\n",
       "      <td>no , greenit be say his download speed be slow...</td>\n",
       "      <td>lsb_releas -sc __eou__ well ... regardless . i...</td>\n",
       "      <td>you can buy _anything_ in china __eou__</td>\n",
       "      <td>no __eou__</td>\n",
       "      <td>sudo restart lightdm __eou__</td>\n",
       "      <td>you be still ask for the uniti logout menu rig...</td>\n",
       "      <td>so i be work as a linux admin intern , and my ...</td>\n",
       "    </tr>\n",
       "    <tr>\n",
       "      <th>1</th>\n",
       "      <td>how much hdd use ubuntu default instal ? __eou...</td>\n",
       "      <td>that whi i ask how much be default instal ? : ...</td>\n",
       "      <td>all of this possibl in older version of ubuntu...</td>\n",
       "      <td>: be that a question ? __eou__</td>\n",
       "      <td>yes __eou__</td>\n",
       "      <td>thank __eou__ i would imagin so , the site bon...</td>\n",
       "      <td>yes i ve investig that alreadi . it seem you c...</td>\n",
       "      <td>not realli . i use urxvt myself . __eou__</td>\n",
       "      <td>thank a lot , realli ! __eou__</td>\n",
       "      <td>as someon els suggest , close update-manag , a...</td>\n",
       "      <td>you re welcom .. sinc 12.04 throw dnsmasq into...</td>\n",
       "    </tr>\n",
       "    <tr>\n",
       "      <th>2</th>\n",
       "      <td>in my countri it near the 27th __eou__ when wi...</td>\n",
       "      <td>thanx __eou__</td>\n",
       "      <td>i have no .docx file , so do n't know , whi no...</td>\n",
       "      <td>i ve boot countless distro from usb on my aao ...</td>\n",
       "      <td>but i 'm sure i can work it out __eou__</td>\n",
       "      <td>the way you put it , that sound like a sever c...</td>\n",
       "      <td>im not familiar with hotspot __eou__</td>\n",
       "      <td>it work fine without set up an ssh tunnel manu...</td>\n",
       "      <td>so it have two be a two-command process ? __eou__</td>\n",
       "      <td>and becaus you onli have 3 gb of ram , be not ...</td>\n",
       "      <td>it ok but no error ? then how do you know it a...</td>\n",
       "    </tr>\n",
       "    <tr>\n",
       "      <th>3</th>\n",
       "      <td>it 's not out __eou__ __eot__ they probabali b...</td>\n",
       "      <td>wait for mani thing to be setup __eou__ final ...</td>\n",
       "      <td>that 's right , while chat i regrett make a lo...</td>\n",
       "      <td>afaik it 's best to start at 2mb = 2048k __eou__</td>\n",
       "      <td>for the most part , you should be instal pytho...</td>\n",
       "      <td>do you overwrit your win instal or can you bro...</td>\n",
       "      <td>for some reason the headphon option doe not ch...</td>\n",
       "      <td>well then i do n't know . can anyth boot on th...</td>\n",
       "      <td>well then i do n't know . can anyth boot on th...</td>\n",
       "      <td>ya , but i guess you could do a git of your en...</td>\n",
       "      <td>noexec be a mount option . you would have to c...</td>\n",
       "    </tr>\n",
       "    <tr>\n",
       "      <th>4</th>\n",
       "      <td>be the ext4 driver stabl ? __eou__ __eot__ i b...</td>\n",
       "      <td>you sound like it 's updat to skynet . ; ) __e...</td>\n",
       "      <td>ok i will tri that , brb __eou__ it complain a...</td>\n",
       "      <td>ouch __eou__</td>\n",
       "      <td>i do system annalysi and it say everyth pass 1...</td>\n",
       "      <td>not to mention way less complex ... you can ha...</td>\n",
       "      <td>well , you can , accord to that articl , i als...</td>\n",
       "      <td>if not , i think you can pretti much grab ani ...</td>\n",
       "      <td>gpart ? i do n't want do edit partit , just mo...</td>\n",
       "      <td>i ve tri it . not a fan at all __eou__ i have ...</td>\n",
       "      <td>ah , okay __eou__</td>\n",
       "    </tr>\n",
       "  </tbody>\n",
       "</table>\n",
       "</div>"
      ],
      "text/plain": [
       "                                             Context  \\\n",
       "0  ani idea on how lts will be releas ? __eou__ _...   \n",
       "1  how much hdd use ubuntu default instal ? __eou...   \n",
       "2  in my countri it near the 27th __eou__ when wi...   \n",
       "3  it 's not out __eou__ __eot__ they probabali b...   \n",
       "4  be the ext4 driver stabl ? __eou__ __eot__ i b...   \n",
       "\n",
       "                              Ground Truth Utterance  \\\n",
       "0                 we be talk 12.04 not 10.04 __eou__   \n",
       "1  that whi i ask how much be default instal ? : ...   \n",
       "2                                      thanx __eou__   \n",
       "3  wait for mani thing to be setup __eou__ final ...   \n",
       "4  you sound like it 's updat to skynet . ; ) __e...   \n",
       "\n",
       "                                        Distractor_0  \\\n",
       "0  you rememb my flash issu from yesterday or the...   \n",
       "1  all of this possibl in older version of ubuntu...   \n",
       "2  i have no .docx file , so do n't know , whi no...   \n",
       "3  that 's right , while chat i regrett make a lo...   \n",
       "4  ok i will tri that , brb __eou__ it complain a...   \n",
       "\n",
       "                                        Distractor_1  \\\n",
       "0  oh , no idea other be probabl ok __eou__ updat...   \n",
       "1                     : be that a question ? __eou__   \n",
       "2  i ve boot countless distro from usb on my aao ...   \n",
       "3   afaik it 's best to start at 2mb = 2048k __eou__   \n",
       "4                                       ouch __eou__   \n",
       "\n",
       "                                        Distractor_2  \\\n",
       "0  no , greenit be say his download speed be slow...   \n",
       "1                                        yes __eou__   \n",
       "2            but i 'm sure i can work it out __eou__   \n",
       "3  for the most part , you should be instal pytho...   \n",
       "4  i do system annalysi and it say everyth pass 1...   \n",
       "\n",
       "                                        Distractor_3  \\\n",
       "0  lsb_releas -sc __eou__ well ... regardless . i...   \n",
       "1  thank __eou__ i would imagin so , the site bon...   \n",
       "2  the way you put it , that sound like a sever c...   \n",
       "3  do you overwrit your win instal or can you bro...   \n",
       "4  not to mention way less complex ... you can ha...   \n",
       "\n",
       "                                        Distractor_4  \\\n",
       "0            you can buy _anything_ in china __eou__   \n",
       "1  yes i ve investig that alreadi . it seem you c...   \n",
       "2               im not familiar with hotspot __eou__   \n",
       "3  for some reason the headphon option doe not ch...   \n",
       "4  well , you can , accord to that articl , i als...   \n",
       "\n",
       "                                        Distractor_5  \\\n",
       "0                                         no __eou__   \n",
       "1          not realli . i use urxvt myself . __eou__   \n",
       "2  it work fine without set up an ssh tunnel manu...   \n",
       "3  well then i do n't know . can anyth boot on th...   \n",
       "4  if not , i think you can pretti much grab ani ...   \n",
       "\n",
       "                                        Distractor_6  \\\n",
       "0                       sudo restart lightdm __eou__   \n",
       "1                     thank a lot , realli ! __eou__   \n",
       "2  so it have two be a two-command process ? __eou__   \n",
       "3  well then i do n't know . can anyth boot on th...   \n",
       "4  gpart ? i do n't want do edit partit , just mo...   \n",
       "\n",
       "                                        Distractor_7  \\\n",
       "0  you be still ask for the uniti logout menu rig...   \n",
       "1  as someon els suggest , close update-manag , a...   \n",
       "2  and becaus you onli have 3 gb of ram , be not ...   \n",
       "3  ya , but i guess you could do a git of your en...   \n",
       "4  i ve tri it . not a fan at all __eou__ i have ...   \n",
       "\n",
       "                                        Distractor_8  \n",
       "0  so i be work as a linux admin intern , and my ...  \n",
       "1  you re welcom .. sinc 12.04 throw dnsmasq into...  \n",
       "2  it ok but no error ? then how do you know it a...  \n",
       "3  noexec be a mount option . you would have to c...  \n",
       "4                                  ah , okay __eou__  "
      ]
     },
     "execution_count": 10,
     "metadata": {},
     "output_type": "execute_result"
    }
   ],
   "source": [
    "print valid.shape\n",
    "valid.head()"
   ]
  },
  {
   "cell_type": "markdown",
   "metadata": {},
   "source": [
    "## Completely Random Predictor\n",
    "This naive predictor randomly picks one of the responses for each of the rows in the test data set. Therefore, we would expect it to have ~10% accuracy with recall@1, ~20% accuracy with recall@2, ~50% accuracy with recall@5 and 100% accuracy with recall@10."
   ]
  },
  {
   "cell_type": "code",
   "execution_count": 4,
   "metadata": {
    "collapsed": true
   },
   "outputs": [],
   "source": [
    "# Completely random prediction model\n",
    "def random_predictor(context, test):\n",
    "    return np.random.choice(len(test), 10, replace=False)"
   ]
  },
  {
   "cell_type": "code",
   "execution_count": 5,
   "metadata": {
    "collapsed": false
   },
   "outputs": [
    {
     "name": "stdout",
     "output_type": "stream",
     "text": [
      "Recall @ 1, 10 total choices: 0.0974101\n",
      "Recall @ 2, 10 total choices: 0.195032\n",
      "Recall @ 5, 10 total choices: 0.493869\n",
      "Recall @ 10, 10 total choices: 1\n"
     ]
    }
   ],
   "source": [
    "# As a sanity check, let's see if the random predictor performs as expected\n",
    "y_random = [random_predictor(test.Context[x], test.iloc[x,1:].values) for x in range(len(test))]\n",
    "for k in [1, 2, 5, 10]:\n",
    "    print(\"Recall @ {}, 10 total choices: {:g}\".format(k, recall_at_k(y_random, k)))"
   ]
  },
  {
   "cell_type": "markdown",
   "metadata": {},
   "source": [
    "The random predictor does indeed perform as expected."
   ]
  },
  {
   "cell_type": "markdown",
   "metadata": {},
   "source": [
    "## TF-IDF Weighting\n",
    "Now let's try to use **TF-IDF** weighting to vectorize the contexts and responses and use **cosine similarity** to compute the rank each of the possible responses."
   ]
  },
  {
   "cell_type": "code",
   "execution_count": 3,
   "metadata": {
    "collapsed": false
   },
   "outputs": [],
   "source": [
    "# Get data into right format i.e. list of strings\n",
    "train_data = np.append(train.Context.values,train.Utterance.values)\n",
    "\n",
    "# Fit TF-IDF model\n",
    "tfidf_model = tfidf.TFIDF_Predictor()\n",
    "tfidf_model.train(train_data)"
   ]
  },
  {
   "cell_type": "code",
   "execution_count": 10,
   "metadata": {
    "collapsed": false
   },
   "outputs": [
    {
     "name": "stdout",
     "output_type": "stream",
     "text": [
      "Recall @ 1, 10 total choices: 0.495032\n",
      "Recall @ 2, 10 total choices: 0.596882\n",
      "Recall @ 5, 10 total choices: 0.766121\n",
      "Recall @ 10, 10 total choices: 1\n"
     ]
    }
   ],
   "source": [
    "# Evaluate model performance\n",
    "y = [tfidf_model.predict(test.Context[x], test.iloc[x,1:].values) for x in range(test.shape[0])]\n",
    "for k in [1, 2, 5, 10]:\n",
    "    print(\"Recall @ {}, 10 total choices: {:g}\".format(k, recall_at_k(y, k)))"
   ]
  },
  {
   "cell_type": "code",
   "execution_count": 9,
   "metadata": {
    "collapsed": false
   },
   "outputs": [
    {
     "name": "stdout",
     "output_type": "stream",
     "text": [
      "[array([6, 7, 0, 4, 1, 2, 8, 3, 9, 5]), array([6, 3, 9, 1, 0, 4, 2, 8, 5, 7]), array([8, 4, 5, 3, 6, 9, 1, 2, 7, 0]), array([0, 7, 8, 9, 6, 5, 3, 1, 4, 2]), array([0, 7, 8, 2, 5, 3, 6, 4, 1, 9]), array([0, 2, 6, 5, 3, 8, 4, 1, 7, 9]), array([0, 7, 4, 3, 1, 6, 9, 2, 5, 8]), array([0, 7, 8, 2, 1, 6, 3, 9, 4, 5]), array([0, 2, 6, 9, 7, 5, 3, 1, 4, 8]), array([0, 3, 2, 7, 6, 5, 8, 4, 1, 9])]\n"
     ]
    }
   ],
   "source": [
    "print y[:10]"
   ]
  },
  {
   "cell_type": "code",
   "execution_count": null,
   "metadata": {
    "collapsed": true
   },
   "outputs": [],
   "source": []
  }
 ],
 "metadata": {
  "kernelspec": {
   "display_name": "Python [Root]",
   "language": "python",
   "name": "Python [Root]"
  },
  "language_info": {
   "codemirror_mode": {
    "name": "ipython",
    "version": 2
   },
   "file_extension": ".py",
   "mimetype": "text/x-python",
   "name": "python",
   "nbconvert_exporter": "python",
   "pygments_lexer": "ipython2",
   "version": "2.7.12"
  }
 },
 "nbformat": 4,
 "nbformat_minor": 0
}
