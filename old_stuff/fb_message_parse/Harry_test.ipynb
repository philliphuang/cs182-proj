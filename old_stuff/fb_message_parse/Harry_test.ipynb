{
 "cells": [
  {
   "cell_type": "markdown",
   "metadata": {},
   "source": [
    "# Harry's Test Notebook\n",
    "Experimentation with:\n",
    "* Processing my personal Facebook chat data with BeautifulSoup\n",
    "* Preprocessing of text? (stop word removal, stemming, lowercase)\n",
    "* Similarity with **TF-IDF**\n",
    "* **doc2vec**"
   ]
  },
  {
   "cell_type": "code",
   "execution_count": 272,
   "metadata": {
    "collapsed": false
   },
   "outputs": [],
   "source": [
    "# Load in libraries\n",
    "from bs4 import BeautifulSoup\n",
    "import urllib\n",
    "import pickle\n",
    "import editdistance\n",
    "from operator import itemgetter\n",
    "from sklearn.feature_extraction.text import TfidfVectorizer\n",
    "from sklearn.metrics.pairwise import cosine_similarity\n",
    "from sklearn.manifold import TSNE\n",
    "import numpy as np\n",
    "import math\n",
    "from copy import copy\n",
    "from gensim.models import doc2vec, word2vec\n",
    "from collections import namedtuple"
   ]
  },
  {
   "cell_type": "markdown",
   "metadata": {},
   "source": [
    "# Scrape and preprocess Facebook Messenger messages"
   ]
  },
  {
   "cell_type": "code",
   "execution_count": 2,
   "metadata": {
    "collapsed": false
   },
   "outputs": [],
   "source": [
    "# Read html\n",
    "page = urllib.urlopen('file:///Users/harryxue/Desktop/facebook-harryxue/html/messages.htm').read()\n",
    "soup = BeautifulSoup(page, 'lxml')"
   ]
  },
  {
   "cell_type": "code",
   "execution_count": 3,
   "metadata": {
    "collapsed": false,
    "scrolled": false
   },
   "outputs": [
    {
     "name": "stdout",
     "output_type": "stream",
     "text": [
      "<html>\n",
      " <head>\n",
      "  <meta content=\"text/html; charset=utf-8\" http-equiv=\"Content-Type\"/>\n",
      "  <title>\n",
      "   Harry Xue - Messages\n",
      "  </title>\n",
      "  <link href=\"../html/style.css\" rel=\"stylesheet\" type=\"text/css\"/>\n",
      " </head>\n",
      " <body>\n",
      "  <div class=\"nav\">\n",
      "   <img src=\"../photos/profile.jpg\"/>\n",
      "   <ul>\n",
      "    <li>\n",
      "     <a href=\"../index.htm\">\n",
      "      Profile\n",
      "     </a>\n",
      "    </li>\n",
      "    <li>\n",
      "     <a href=\"../html/contact_info.htm\">\n",
      "      Contact Info\n",
      "     </a>\n",
      "    </li>\n",
      "    <li>\n",
      "     <a href=\"../html/timeline.htm\">\n",
      "      Timeline\n",
      "     </a>\n",
      "    </li>\n",
      "    <li>\n",
      "     <a href=\"../html/photos.htm\">\n",
      "      Photos\n",
      "     </a>\n",
      "    </li>\n",
      "    <li>\n",
      "     <a href=\"../html/synced_photos.htm\">\n",
      "      Synced Photos\n",
      "     </a>\n",
      "    </li>\n",
      "    <li>\n",
      "     <a href=\"../html/videos.htm\">\n",
      "      Videos\n",
      "     </a>\n",
      "    </li>\n",
      "    <li>\n",
      "     <a href=\"../html/friends.htm\">\n",
      "      Friends\n",
      "     </a>\n",
      "    </li>\n",
      "    <li class=\"selected\">\n",
      "     Messages\n",
      "    </li>\n",
      "    <li>\n",
      "     <a href=\"../html/pokes.htm\">\n",
      "      Pokes\n",
      "     </a>\n",
      "    </li>\n",
      "    <li>\n",
      "     <a href=\"../html/events.htm\">\n",
      "      Events\n",
      "     </a>\n",
      "    </li>\n",
      "    <li>\n",
      "     <a href=\"../html/security.htm\">\n",
      "      Security\n",
      "     </a>\n",
      "    </li>\n",
      "    <li>\n",
      "     <a href=\"../html/ads.htm\">\n",
      "      Ads\n",
      "     </a>\n",
      "    </li>\n",
      "    <li>\n",
      "     <a href=\"../html/mobile_devices.htm\">\n",
      "      Mobile Devices\n",
      "     </a>\n",
      "    </li>\n",
      "    <li>\n",
      "     <a href=\"../html/places.htm\">\n",
      "      Places Created\n",
      "     </a>\n",
      "    </li>\n",
      "    <li>\n",
      "     <a href=\"../html/survey_responses.htm\">\n",
      "      Survey Responses\n",
      "     </a>\n",
      "    </li>\n",
      "   </ul>\n",
      "  </div>\n",
      "  <div class=\"contents\">\n",
      "   <h1>\n",
      "    Harry Xue\n",
      "   </h1>\n",
      "   <div>\n",
      "    <div class=\"thread\">\n",
      "     Chris Chen, Joshua Felizardo, Phillip Huang, Harry Xue\n",
      "     <div class=\"message\">\n",
      "      <div class=\"message_header\">\n",
      "       <span class=\"user\">\n",
      "        Joshua Felizardo\n",
      "       </span>\n",
      "       <span class=\"meta\">\n",
      "        Tuesday, April 26, 2016 at 3:37pm EDT\n",
      "       </span>\n",
      "      </div>\n",
      "     </div>\n",
      "     <p>\n",
      "     </p>\n",
      "     <div class=\"message\">\n",
      "      <div class=\"message_header\">\n",
      "       <span class=\"user\">\n",
      "        Harry Xue\n",
      "       </span>\n",
      "       <span class=\"meta\">\n",
      "        Tuesday, April 26, 2016 at 3:37pm EDT\n",
      "       </span>\n",
      "      </div>\n",
      "     </div>\n",
      "     <p>\n",
      "      No more pumpkins sigh\n",
      "     </p>\n",
      "     <div class=\"message\">\n",
      "      <div class=\"message_header\">\n",
      "       <span class=\"user\">\n",
      "        Harry Xue\n",
      "       </span>\n",
      "       <span class=\"meta\">\n",
      "        Tuesday, April 26, 2016 at 3:37pm EDT\n",
      "       </span>\n",
      "      </div>\n",
      "     </div>\n",
      "     <p>\n",
      "     </p>\n",
      "     <div class=\"message\">\n",
      "      <div class=\"message_header\">\n",
      "       <span class=\"user\">\n",
      "        Chris Chen\n",
      "       </span>\n",
      "       <span class=\"meta\">\n",
      "        Monday, April 25, 2016 at 1:21pm EDT\n",
      "       </span>\n",
      "      </div>\n",
      "     </div>\n",
      "     <p>\n",
      "      in 121. I’ll give it that much\n",
      "     </p>\n",
      "     <div class=\"message\">\n",
      "      <div class=\"message_header\">\n",
      "       <span class=\"user\">\n",
      "        Chris Chen\n",
      "       </span>\n",
      "       <span class=\"meta\">\n",
      "        Monday, April 25, 2016 at 1:21pm EDT\n",
      "       </span>\n",
      "      </div>\n",
      "     </div>\n",
      "     <p>\n",
      "      ok ok ok fine. I’ll get op at regex\n",
      "     </p>\n",
      "     <div class=\"message\">\n",
      "      <div class=\"message_header\">\n",
      "       <span class=\"user\">\n",
      "        Harry Xue\n",
      "       </span>\n",
      "       <span class=\"meta\">\n",
      "        Monday, April 25, 2016 at 1:20pm EDT\n",
      "       </span>\n",
      "      </div>\n",
      "     </div>\n",
      "     <p>\n",
      "      Cough algorithms\n",
      "     </p>\n",
      "     <div class=\"message\">\n",
      "      <div class=\"message_header\">\n",
      "       <span class=\"user\">\n",
      "        Harry Xue\n",
      "       </span>\n",
      "       <span class=\"meta\">\n",
      "        Monday, April 25, 2016 at 1:20pm EDT\n",
      "       </span>\n",
      "      </div>\n",
      "     </div>\n",
      "     <p>\n",
      "      Cough parsing\n",
      "     </p>\n",
      "     <div class=\"message\">\n",
      "      <div class=\"message_header\">\n",
      "       <span class=\"user\">\n",
      "        Harry Xue\n",
      "       </span>\n",
      "       <span class=\"meta\">\n",
      "        Monday, April 25, 2016 at 1:20pm EDT\n",
      "       </span>\n",
      "      </div>\n",
      "     </div>\n",
      "     <p>\n",
      "      Cough compilers\n",
      "     </p>\n",
      "     <div class=\"message\">\n",
      "      <div class=\"message_header\">\n",
      "       <span class=\"user\">\n",
      "        Harry Xue\n",
      "       </span>\n",
      "       <span class=\"meta\">\n",
      "        Monday, April 25, 2016 at 1:20pm EDT\n",
      "       </span>\n",
      "      </div>\n",
      "     </div>\n",
      "     <p>\n",
      "      But k\n",
      "     </p>\n",
      "     <div class=\"message\">\n",
      "      <div class=\"message_header\">\n",
      "       <span class=\"user\">\n",
      "        Harry Xue\n",
      "       </span>\n",
      "       <span class=\"meta\">\n",
      "        Monday, April 25, 2016 at 1:20pm EDT\n",
      "       </span>\n",
      "      </div>\n",
      "     </div>\n",
      "     <p>\n",
      "      I beg to disagree sir\n",
      "     </p>\n",
      "     <div class=\"message\">\n",
      "      <div class=\"message_header\">\n",
      "       <span class=\"user\">\n",
      "        Chris Chen\n",
      "       </span>\n",
      "       <span class=\"meta\">\n",
      "        Monday, April 25, 2016 at 1:20pm EDT\n",
      "       </span>\n",
      "      </div>\n",
      "     </div>\n",
      "     <p>\n",
      "      I didn’t say it wasn’t cool\n",
      "     </p>\n",
      "     <div class=\"message\">\n",
      "      <div class=\"message_header\">\n",
      "       <span class=\"user\">\n",
      "        Harry Xue\n",
      "       </span>\n",
      "       <span class=\"meta\">\n",
      "        Monday, April 25, 2016 at 1:20pm EDT\n",
      "       </span>\n",
      "      </div>\n",
      "     </div>\n",
      "     <p>\n",
      "      Ouch\n",
      "     </p>\n",
      "     <div class=\"message\">\n",
      "      <div class=\"mess\n"
     ]
    }
   ],
   "source": [
    "# Print first 5000 characters to locate room groupchat\n",
    "print soup.prettify()[:5000]"
   ]
  },
  {
   "cell_type": "code",
   "execution_count": 11,
   "metadata": {
    "collapsed": false
   },
   "outputs": [],
   "source": [
    "contents_div = soup.body.div.next_sibling\n",
    "# Get div of room groupchat\n",
    "groupchat_div = contents_div.div.div"
   ]
  },
  {
   "cell_type": "code",
   "execution_count": 12,
   "metadata": {
    "collapsed": true
   },
   "outputs": [],
   "source": [
    "# Create list of all messages in this groupchat\n",
    "groupchat_messages = []\n",
    "\n",
    "groupchat_p = groupchat_div.find_all(\"p\")\n",
    "for p in groupchat_p:\n",
    "    groupchat_messages.append(p.text)"
   ]
  },
  {
   "cell_type": "code",
   "execution_count": 18,
   "metadata": {
    "collapsed": false
   },
   "outputs": [
    {
     "name": "stdout",
     "output_type": "stream",
     "text": [
      "Number of messages: 7316\n",
      "[u'', u'No more pumpkins sigh', u'', u'in 121. I\\u2019ll give it that much', u'ok ok ok fine. I\\u2019ll get op at regex', u'Cough algorithms', u'Cough parsing', u'Cough compilers', u'But k', u'I beg to disagree sir']\n"
     ]
    }
   ],
   "source": [
    "print \"Number of messages:\", len(groupchat_messages)\n",
    "print groupchat_messages[:10]"
   ]
  },
  {
   "cell_type": "markdown",
   "metadata": {},
   "source": [
    "We may have to clean this data later, but for now we'll move on"
   ]
  },
  {
   "cell_type": "code",
   "execution_count": 16,
   "metadata": {
    "collapsed": true
   },
   "outputs": [],
   "source": [
    "# Create pickle dump of all messages\n",
    "pickle.dump(groupchat_messages, open('groupchat.p', 'wb'))"
   ]
  },
  {
   "cell_type": "markdown",
   "metadata": {},
   "source": [
    "# Naive Implementation with Edit Distance\n",
    "This chatbot matches an inputted message to the closest message in the groupchat history by edit distance and then outputs the next message in the history after the match."
   ]
  },
  {
   "cell_type": "code",
   "execution_count": 25,
   "metadata": {
    "collapsed": false
   },
   "outputs": [
    {
     "ename": "KeyboardInterrupt",
     "evalue": "",
     "output_type": "error",
     "traceback": [
      "\u001b[0;31m---------------------------------------------------------------------------\u001b[0m",
      "\u001b[0;31mKeyboardInterrupt\u001b[0m                         Traceback (most recent call last)",
      "\u001b[0;32m<ipython-input-25-ae5cf964abbd>\u001b[0m in \u001b[0;36m<module>\u001b[0;34m()\u001b[0m\n\u001b[1;32m      2\u001b[0m \u001b[0;34m\u001b[0m\u001b[0m\n\u001b[1;32m      3\u001b[0m \u001b[0;32mwhile\u001b[0m \u001b[0mTrue\u001b[0m\u001b[0;34m:\u001b[0m\u001b[0;34m\u001b[0m\u001b[0m\n\u001b[0;32m----> 4\u001b[0;31m     \u001b[0ms\u001b[0m \u001b[0;34m=\u001b[0m \u001b[0mraw_input\u001b[0m\u001b[0;34m(\u001b[0m\u001b[0;34m'Message: '\u001b[0m\u001b[0;34m)\u001b[0m\u001b[0;34m\u001b[0m\u001b[0m\n\u001b[0m\u001b[1;32m      5\u001b[0m \u001b[0;34m\u001b[0m\u001b[0m\n\u001b[1;32m      6\u001b[0m     \u001b[0mdists\u001b[0m \u001b[0;34m=\u001b[0m \u001b[0;34m[\u001b[0m\u001b[0;34m]\u001b[0m\u001b[0;34m\u001b[0m\u001b[0m\n",
      "\u001b[0;32m/Users/harryxue/anaconda/lib/python2.7/site-packages/ipykernel/kernelbase.pyc\u001b[0m in \u001b[0;36mraw_input\u001b[0;34m(self, prompt)\u001b[0m\n\u001b[1;32m    687\u001b[0m             \u001b[0mself\u001b[0m\u001b[0;34m.\u001b[0m\u001b[0m_parent_ident\u001b[0m\u001b[0;34m,\u001b[0m\u001b[0;34m\u001b[0m\u001b[0m\n\u001b[1;32m    688\u001b[0m             \u001b[0mself\u001b[0m\u001b[0;34m.\u001b[0m\u001b[0m_parent_header\u001b[0m\u001b[0;34m,\u001b[0m\u001b[0;34m\u001b[0m\u001b[0m\n\u001b[0;32m--> 689\u001b[0;31m             \u001b[0mpassword\u001b[0m\u001b[0;34m=\u001b[0m\u001b[0mFalse\u001b[0m\u001b[0;34m,\u001b[0m\u001b[0;34m\u001b[0m\u001b[0m\n\u001b[0m\u001b[1;32m    690\u001b[0m         )\n\u001b[1;32m    691\u001b[0m \u001b[0;34m\u001b[0m\u001b[0m\n",
      "\u001b[0;32m/Users/harryxue/anaconda/lib/python2.7/site-packages/ipykernel/kernelbase.pyc\u001b[0m in \u001b[0;36m_input_request\u001b[0;34m(self, prompt, ident, parent, password)\u001b[0m\n\u001b[1;32m    717\u001b[0m             \u001b[0;32mexcept\u001b[0m \u001b[0mKeyboardInterrupt\u001b[0m\u001b[0;34m:\u001b[0m\u001b[0;34m\u001b[0m\u001b[0m\n\u001b[1;32m    718\u001b[0m                 \u001b[0;31m# re-raise KeyboardInterrupt, to truncate traceback\u001b[0m\u001b[0;34m\u001b[0m\u001b[0;34m\u001b[0m\u001b[0m\n\u001b[0;32m--> 719\u001b[0;31m                 \u001b[0;32mraise\u001b[0m \u001b[0mKeyboardInterrupt\u001b[0m\u001b[0;34m\u001b[0m\u001b[0m\n\u001b[0m\u001b[1;32m    720\u001b[0m             \u001b[0;32melse\u001b[0m\u001b[0;34m:\u001b[0m\u001b[0;34m\u001b[0m\u001b[0m\n\u001b[1;32m    721\u001b[0m                 \u001b[0;32mbreak\u001b[0m\u001b[0;34m\u001b[0m\u001b[0m\n",
      "\u001b[0;31mKeyboardInterrupt\u001b[0m: "
     ]
    },
    {
     "name": "stdout",
     "output_type": "stream",
     "text": [
      "Message: sds\n"
     ]
    }
   ],
   "source": [
    "train_data = groupchat_messages\n",
    "\n",
    "while True:\n",
    "    s = raw_input('Message: ')\n",
    "\n",
    "    dists = []\n",
    "\n",
    "    for past_m in train_data:\n",
    "        dists.append(editdistance.eval(past_m, s))\n",
    "\n",
    "    best_ind = min(enumerate(dists), key=itemgetter(1))[0] \n",
    "\n",
    "    if best_ind == len(train_data):\n",
    "        print 'Pizzabot: ' + train_data[0]\n",
    "    else: \n",
    "        print 'Pizzabot: ' + train_data[best_ind + 1]"
   ]
  },
  {
   "cell_type": "markdown",
   "metadata": {},
   "source": [
    "# Naive Implementation with TF-IDF\n",
    "Now let's try vectorizing each of the messages via TF-IDF and use **cosine similarity** as the distance metric."
   ]
  },
  {
   "cell_type": "code",
   "execution_count": 169,
   "metadata": {
    "collapsed": false
   },
   "outputs": [
    {
     "name": "stdout",
     "output_type": "stream",
     "text": [
      "Message: chris u sux\n",
      "Pizzabot: Because those TFs likely were faculty\n",
      "(Closest match to: lol chris\n",
      "Message: poop is good\n",
      "Pizzabot: K\n",
      "(Closest match to: Poop\n",
      "Message: What do you think of stat 110?\n",
      "Pizzabot: this morning\n",
      "(Closest match to: What did you think of it?\n",
      "Message: chris is dead\n",
      "Pizzabot: *waiting\n",
      "(Closest match to: Is Chris dead\n",
      "Message: *waiting\n",
      "Pizzabot: Bacon mushroom ottos just siting for you\n",
      "(Closest match to: *waiting\n",
      "Message: anyone wanna lift later?\n",
      "Pizzabot: Well blood test\n",
      "(Closest match to: Can you lift later?\n",
      "Message: where u\n",
      "Pizzabot: Almost there\n",
      "(Closest match to: Where u\n",
      "Message: how u how life\n",
      "Pizzabot: Wut\n",
      "(Closest match to: How\n",
      "Message: I hate 109\n",
      "Pizzabot: \n",
      "(Closest match to: as much as I hate javascript\n",
      "Message: I am poop\n",
      "Pizzabot: K\n",
      "(Closest match to: Poop\n",
      "Message: I need to poop\n",
      "Pizzabot: K\n",
      "(Closest match to: Poop\n",
      "Message: K\n",
      "Pizzabot: No more pumpkins sigh\n",
      "(Closest match to: \n",
      "Message: ok\n",
      "Pizzabot: uh i did\n",
      "(Closest match to: ok\n",
      "Message: where do you wanna eat\n",
      "Pizzabot: 󾭞\n",
      "(Closest match to: Do you wanna do lunch today?\n",
      "Message: where do you want to eat?\n",
      "Pizzabot: where do you want to eat?\n",
      "(Closest match to: where do you wanna eat\n",
      "Message: chris sux\n",
      "Pizzabot: poop is good\n",
      "(Closest match to: chris u sux\n",
      "Message: such pain\n",
      "Pizzabot: The feels\n",
      "(Closest match to: Such inspire\n"
     ]
    },
    {
     "ename": "KeyboardInterrupt",
     "evalue": "",
     "output_type": "error",
     "traceback": [
      "\u001b[0;31m---------------------------------------------------------------------------\u001b[0m",
      "\u001b[0;31mKeyboardInterrupt\u001b[0m                         Traceback (most recent call last)",
      "\u001b[0;32m<ipython-input-169-2cdf90ae1be2>\u001b[0m in \u001b[0;36m<module>\u001b[0;34m()\u001b[0m\n\u001b[1;32m      2\u001b[0m \u001b[0;34m\u001b[0m\u001b[0m\n\u001b[1;32m      3\u001b[0m \u001b[0;32mwhile\u001b[0m \u001b[0mTrue\u001b[0m\u001b[0;34m:\u001b[0m\u001b[0;34m\u001b[0m\u001b[0m\n\u001b[0;32m----> 4\u001b[0;31m     \u001b[0ms\u001b[0m \u001b[0;34m=\u001b[0m \u001b[0mraw_input\u001b[0m\u001b[0;34m(\u001b[0m\u001b[0;34m'Message: '\u001b[0m\u001b[0;34m)\u001b[0m\u001b[0;34m\u001b[0m\u001b[0m\n\u001b[0m\u001b[1;32m      5\u001b[0m \u001b[0;34m\u001b[0m\u001b[0m\n\u001b[1;32m      6\u001b[0m     \u001b[0;31m# Vectorize each of the messages\u001b[0m\u001b[0;34m\u001b[0m\u001b[0;34m\u001b[0m\u001b[0m\n",
      "\u001b[0;32m/Users/harryxue/anaconda/lib/python2.7/site-packages/ipykernel/kernelbase.pyc\u001b[0m in \u001b[0;36mraw_input\u001b[0;34m(self, prompt)\u001b[0m\n\u001b[1;32m    687\u001b[0m             \u001b[0mself\u001b[0m\u001b[0;34m.\u001b[0m\u001b[0m_parent_ident\u001b[0m\u001b[0;34m,\u001b[0m\u001b[0;34m\u001b[0m\u001b[0m\n\u001b[1;32m    688\u001b[0m             \u001b[0mself\u001b[0m\u001b[0;34m.\u001b[0m\u001b[0m_parent_header\u001b[0m\u001b[0;34m,\u001b[0m\u001b[0;34m\u001b[0m\u001b[0m\n\u001b[0;32m--> 689\u001b[0;31m             \u001b[0mpassword\u001b[0m\u001b[0;34m=\u001b[0m\u001b[0mFalse\u001b[0m\u001b[0;34m,\u001b[0m\u001b[0;34m\u001b[0m\u001b[0m\n\u001b[0m\u001b[1;32m    690\u001b[0m         )\n\u001b[1;32m    691\u001b[0m \u001b[0;34m\u001b[0m\u001b[0m\n",
      "\u001b[0;32m/Users/harryxue/anaconda/lib/python2.7/site-packages/ipykernel/kernelbase.pyc\u001b[0m in \u001b[0;36m_input_request\u001b[0;34m(self, prompt, ident, parent, password)\u001b[0m\n\u001b[1;32m    717\u001b[0m             \u001b[0;32mexcept\u001b[0m \u001b[0mKeyboardInterrupt\u001b[0m\u001b[0;34m:\u001b[0m\u001b[0;34m\u001b[0m\u001b[0m\n\u001b[1;32m    718\u001b[0m                 \u001b[0;31m# re-raise KeyboardInterrupt, to truncate traceback\u001b[0m\u001b[0;34m\u001b[0m\u001b[0;34m\u001b[0m\u001b[0m\n\u001b[0;32m--> 719\u001b[0;31m                 \u001b[0;32mraise\u001b[0m \u001b[0mKeyboardInterrupt\u001b[0m\u001b[0;34m\u001b[0m\u001b[0m\n\u001b[0m\u001b[1;32m    720\u001b[0m             \u001b[0;32melse\u001b[0m\u001b[0;34m:\u001b[0m\u001b[0;34m\u001b[0m\u001b[0m\n\u001b[1;32m    721\u001b[0m                 \u001b[0;32mbreak\u001b[0m\u001b[0;34m\u001b[0m\u001b[0m\n",
      "\u001b[0;31mKeyboardInterrupt\u001b[0m: "
     ]
    }
   ],
   "source": [
    "train_data = copy(groupchat_messages)\n",
    "\n",
    "while True:\n",
    "    s = raw_input('Message: ')\n",
    "    \n",
    "    # Vectorize each of the messages\n",
    "    vect = TfidfVectorizer(min_df=1)\n",
    "    train_data.append(s)\n",
    "    tfidf = vect.fit_transform(train_data)\n",
    "    \n",
    "    dists = []\n",
    "    \n",
    "    for index, past_m in enumerate(train_data[:-1]):\n",
    "        # Calculate cosine similarity between each of the messages in chat history and the user inputted message\n",
    "        dist = cosine_similarity(tfidf[index].toarray(), tfidf[-1].toarray())[0][0]\n",
    "        dists.append(dist)\n",
    "        \n",
    "    best_ind = max(enumerate(dists), key=itemgetter(1))[0] \n",
    "\n",
    "    if best_ind == len(train_data):\n",
    "        print 'Pizzabot: ' + train_data[0]\n",
    "    else: \n",
    "        print 'Pizzabot: ' + train_data[best_ind + 1]\n",
    "        print '(Closest match to:', train_data[best_ind], ')'"
   ]
  },
  {
   "cell_type": "markdown",
   "metadata": {},
   "source": [
    "# Naive Implementation with doc2vec\n",
    "Now let's try training a doc2vec model"
   ]
  },
  {
   "cell_type": "code",
   "execution_count": 294,
   "metadata": {
    "collapsed": false
   },
   "outputs": [],
   "source": [
    "taggedMessage = namedtuple('TaggedMessage', 'words tags')\n",
    "documents = []\n",
    "\n",
    "# Preprocess messages\n",
    "# TODO: Decide what further preprocessing we may want to do\n",
    "for i, message in enumerate(groupchat_messages):\n",
    "    words = message.lower().split()\n",
    "    tags = [i]\n",
    "    x = taggedMessage(words, tags)\n",
    "    documents.append(taggedMessage(words, tags))\n",
    "\n",
    "# Train model\n",
    "model = doc2vec.Doc2Vec(documents, size=100, workers=4, iter=20)"
   ]
  },
  {
   "cell_type": "code",
   "execution_count": 295,
   "metadata": {
    "collapsed": false
   },
   "outputs": [
    {
     "data": {
      "text/plain": [
       "[(u'guys', 0.649903416633606),\n",
       " (u'phil', 0.6136562824249268),\n",
       " (u'jdawg', 0.6103042364120483),\n",
       " (u'where', 0.5632401704788208),\n",
       " (u'probability', 0.5101494789123535),\n",
       " (u'eat', 0.5087506771087646),\n",
       " (u'club', 0.4903731346130371),\n",
       " (u'want', 0.48883336782455444),\n",
       " (u'breakfast', 0.4771336317062378),\n",
       " (u't', 0.46553558111190796)]"
      ]
     },
     "execution_count": 295,
     "metadata": {},
     "output_type": "execute_result"
    }
   ],
   "source": [
    "# Demo of functions that may be useful\n",
    "# Get most similar terms to a given term\n",
    "model.most_similar(\"josh\")"
   ]
  },
  {
   "cell_type": "markdown",
   "metadata": {},
   "source": [
    "# Exploration of word relationships with word2vec\n",
    "Let's train a word2vec model on the groupchat data and visualize the 2d projection of the words"
   ]
  },
  {
   "cell_type": "code",
   "execution_count": 313,
   "metadata": {
    "collapsed": false
   },
   "outputs": [],
   "source": [
    "# Train w2v model\n",
    "messages = [m.split() for m in groupchat_messages]\n",
    "w2v_model = word2vec.Word2Vec(messages, size=100, min_count=3, iter=20)"
   ]
  },
  {
   "cell_type": "code",
   "execution_count": 329,
   "metadata": {
    "collapsed": false
   },
   "outputs": [
    {
     "data": {
      "text/plain": [
       "[(u'join', 0.9992973804473877),\n",
       " (u'yo', 0.9987936615943909),\n",
       " (u'Do', 0.9987677335739136),\n",
       " (u'explain', 0.9986845254898071),\n",
       " (u'eat', 0.9986089468002319),\n",
       " (u'still', 0.9985542893409729),\n",
       " (u'You', 0.9984771013259888),\n",
       " (u'wanna', 0.9984598159790039),\n",
       " (u'When', 0.9984278678894043),\n",
       " (u'they', 0.9984255433082581)]"
      ]
     },
     "execution_count": 329,
     "metadata": {},
     "output_type": "execute_result"
    }
   ],
   "source": [
    "w2v_model.most_similar(\"lift\")"
   ]
  },
  {
   "cell_type": "code",
   "execution_count": null,
   "metadata": {
    "collapsed": true
   },
   "outputs": [],
   "source": []
  }
 ],
 "metadata": {
  "anaconda-cloud": {},
  "kernelspec": {
   "display_name": "Python [Root]",
   "language": "python",
   "name": "Python [Root]"
  },
  "language_info": {
   "codemirror_mode": {
    "name": "ipython",
    "version": 2
   },
   "file_extension": ".py",
   "mimetype": "text/x-python",
   "name": "python",
   "nbconvert_exporter": "python",
   "pygments_lexer": "ipython2",
   "version": "2.7.12"
  }
 },
 "nbformat": 4,
 "nbformat_minor": 0
}
