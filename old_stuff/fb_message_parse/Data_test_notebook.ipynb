{
 "cells": [
  {
   "cell_type": "code",
   "execution_count": 53,
   "metadata": {
    "collapsed": true
   },
   "outputs": [],
   "source": [
    "from bs4 import BeautifulSoup\n",
    "import urllib\n",
    "from IPython.core.interactiveshell import InteractiveShell\n",
    "InteractiveShell.ast_node_interactivity = \"all\"\n",
    "import pickle"
   ]
  },
  {
   "cell_type": "code",
   "execution_count": 2,
   "metadata": {
    "collapsed": true
   },
   "outputs": [],
   "source": [
    "# read html\n",
    "page = urllib.urlopen('file:///Users/philliphuang/Desktop/facebook-Zarkuna/html/messages.htm').read()"
   ]
  },
  {
   "cell_type": "code",
   "execution_count": 3,
   "metadata": {
    "collapsed": false
   },
   "outputs": [
    {
     "name": "stdout",
     "output_type": "stream",
     "text": [
      "<html>\n",
      " <head>\n",
      "  <meta content=\"text/html; charset=utf-8\" http-equiv=\"Content-Type\"/>\n",
      "  <title>\n",
      "   Phillip Huang - Messages\n",
      "  </title>\n",
      "  <link href=\"../html/style.css\" rel=\"stylesheet\" type=\"text/css\"/>\n",
      " </head>\n",
      " <body>\n",
      "  <div class=\"nav\">\n",
      "   <img src=\"../photos/profile.jpg\"/>\n",
      "   <ul>\n",
      "    <li>\n",
      "     <a href=\"../index.htm\">\n",
      "      Profile\n",
      "     </a>\n",
      "    </li>\n",
      "    <li>\n",
      "     <a href=\"../html/contact_info.htm\">\n",
      "      Contact Info\n",
      "     </a>\n",
      "    </li>\n",
      "    <li>\n",
      "     <a href=\"../html/timeline.htm\">\n",
      "      Timeline\n",
      "     </a>\n",
      "    </li>\n",
      "    <li>\n",
      "     <a href=\"../html/photos.htm\">\n",
      "      Photos\n",
      "     </a>\n",
      "    </li>\n",
      "    <li>\n",
      "     <a href=\"../html/synced_photos.htm\">\n",
      "      Synced Photos\n",
      "     </a>\n",
      "    </li>\n",
      "    <li>\n",
      "     <a href=\"../html/videos.htm\">\n",
      "      Videos\n",
      "     </a>\n",
      "    </li>\n",
      "    <li>\n",
      "     <a href=\"../html/friends.htm\">\n",
      "      Friends\n",
      "     </a>\n",
      "    </li>\n",
      "    <li class=\"selected\">\n",
      "     Messages\n",
      "    </li>\n",
      "    <li>\n",
      "     <a href=\"../html/pokes.htm\">\n",
      "      Pokes\n",
      "     </a>\n",
      "    </li>\n",
      "    <li>\n",
      "     <a href=\"\n"
     ]
    }
   ],
   "source": [
    "# parse html\n",
    "soup = BeautifulSoup(page,'lxml')\n",
    "# print first 1000 chars\n",
    "print soup.prettify()[:1000]"
   ]
  },
  {
   "cell_type": "code",
   "execution_count": 5,
   "metadata": {
    "collapsed": false
   },
   "outputs": [
    {
     "data": {
      "text/plain": [
       "['nav']"
      ]
     },
     "execution_count": 5,
     "metadata": {},
     "output_type": "execute_result"
    }
   ],
   "source": [
    "soup.body.div['class']"
   ]
  },
  {
   "cell_type": "code",
   "execution_count": 7,
   "metadata": {
    "collapsed": false
   },
   "outputs": [
    {
     "name": "stdout",
     "output_type": "stream",
     "text": [
      "['contents']\n",
      "['footer']\n"
     ]
    }
   ],
   "source": [
    "for sibling in soup.body.div.next_siblings:\n",
    "    print sibling['class']"
   ]
  },
  {
   "cell_type": "code",
   "execution_count": 24,
   "metadata": {
    "collapsed": false
   },
   "outputs": [
    {
     "data": {
      "text/plain": [
       "['contents']"
      ]
     },
     "execution_count": 24,
     "metadata": {},
     "output_type": "execute_result"
    }
   ],
   "source": [
    "contents_div = soup.body.div.next_sibling\n",
    "contents_div['class']"
   ]
  },
  {
   "cell_type": "code",
   "execution_count": 27,
   "metadata": {
    "collapsed": false,
    "scrolled": true
   },
   "outputs": [
    {
     "name": "stdout",
     "output_type": "stream",
     "text": [
      "h1\n",
      "div\n",
      "div\n",
      "div\n",
      "div\n",
      "div\n",
      "div\n",
      "div\n",
      "div\n",
      "div\n",
      "div\n",
      "div\n",
      "div\n",
      "div\n",
      "div\n",
      "div\n",
      "div\n",
      "div\n",
      "div\n",
      "div\n",
      "div\n",
      "div\n",
      "div\n",
      "div\n",
      "div\n",
      "div\n",
      "div\n",
      "div\n",
      "div\n",
      "div\n",
      "div\n",
      "div\n",
      "div\n",
      "div\n"
     ]
    }
   ],
   "source": [
    "for content in contents_div.contents:\n",
    "    print content.name"
   ]
  },
  {
   "cell_type": "code",
   "execution_count": 28,
   "metadata": {
    "collapsed": false
   },
   "outputs": [
    {
     "data": {
      "text/plain": [
       "<h1>Phillip Huang</h1>"
      ]
     },
     "execution_count": 28,
     "metadata": {},
     "output_type": "execute_result"
    }
   ],
   "source": [
    "contents_div.h1"
   ]
  },
  {
   "cell_type": "code",
   "execution_count": 33,
   "metadata": {
    "collapsed": false,
    "scrolled": true
   },
   "outputs": [
    {
     "data": {
      "text/plain": [
       "{}"
      ]
     },
     "execution_count": 33,
     "metadata": {},
     "output_type": "execute_result"
    },
    {
     "data": {
      "text/plain": [
       "'div'"
      ]
     },
     "execution_count": 33,
     "metadata": {},
     "output_type": "execute_result"
    },
    {
     "data": {
      "text/plain": [
       "'div'"
      ]
     },
     "execution_count": 33,
     "metadata": {},
     "output_type": "execute_result"
    },
    {
     "data": {
      "text/plain": [
       "'div'"
      ]
     },
     "execution_count": 33,
     "metadata": {},
     "output_type": "execute_result"
    },
    {
     "data": {
      "text/plain": [
       "'div'"
      ]
     },
     "execution_count": 33,
     "metadata": {},
     "output_type": "execute_result"
    },
    {
     "data": {
      "text/plain": [
       "'div'"
      ]
     },
     "execution_count": 33,
     "metadata": {},
     "output_type": "execute_result"
    },
    {
     "data": {
      "text/plain": [
       "'div'"
      ]
     },
     "execution_count": 33,
     "metadata": {},
     "output_type": "execute_result"
    },
    {
     "data": {
      "text/plain": [
       "'div'"
      ]
     },
     "execution_count": 33,
     "metadata": {},
     "output_type": "execute_result"
    },
    {
     "data": {
      "text/plain": [
       "'div'"
      ]
     },
     "execution_count": 33,
     "metadata": {},
     "output_type": "execute_result"
    },
    {
     "data": {
      "text/plain": [
       "'div'"
      ]
     },
     "execution_count": 33,
     "metadata": {},
     "output_type": "execute_result"
    },
    {
     "data": {
      "text/plain": [
       "'div'"
      ]
     },
     "execution_count": 33,
     "metadata": {},
     "output_type": "execute_result"
    },
    {
     "data": {
      "text/plain": [
       "'div'"
      ]
     },
     "execution_count": 33,
     "metadata": {},
     "output_type": "execute_result"
    },
    {
     "data": {
      "text/plain": [
       "'div'"
      ]
     },
     "execution_count": 33,
     "metadata": {},
     "output_type": "execute_result"
    },
    {
     "data": {
      "text/plain": [
       "'div'"
      ]
     },
     "execution_count": 33,
     "metadata": {},
     "output_type": "execute_result"
    }
   ],
   "source": [
    "first_content_div = contents_div.div\n",
    "first_content_div.attrs\n",
    "for content in first_content_div.contents:\n",
    "    content.name"
   ]
  },
  {
   "cell_type": "code",
   "execution_count": 35,
   "metadata": {
    "collapsed": false
   },
   "outputs": [
    {
     "data": {
      "text/plain": [
       "{'class': ['thread']}"
      ]
     },
     "execution_count": 35,
     "metadata": {},
     "output_type": "execute_result"
    }
   ],
   "source": [
    "first_content_div.div.attrs"
   ]
  },
  {
   "cell_type": "code",
   "execution_count": 45,
   "metadata": {
    "collapsed": false
   },
   "outputs": [
    {
     "data": {
      "text/plain": [
       "[u'Tigran Asryan, Phillip Huang',\n",
       " <div class=\"message\"><div class=\"message_header\"><span class=\"user\">Tigran Asryan</span><span class=\"meta\">Monday, November 11, 2013 at 10:18pm EST</span></div></div>,\n",
       " <p>o.k.</p>,\n",
       " <div class=\"message\"><div class=\"message_header\"><span class=\"user\">Phillip Huang</span><span class=\"meta\">Monday, November 11, 2013 at 10:18pm EST</span></div></div>,\n",
       " <p>Let me just say I'm not doing any physics homework and neither is Hans nor Josh</p>,\n",
       " <div class=\"message\"><div class=\"message_header\"><span class=\"user\">Tigran Asryan</span><span class=\"meta\">Monday, November 11, 2013 at 10:15pm EST</span></div></div>,\n",
       " <p>because if you were I'd rather not miss my 3rd hw in a row</p>,\n",
       " <div class=\"message\"><div class=\"message_header\"><span class=\"user\">Tigran Asryan</span><span class=\"meta\">Monday, November 11, 2013 at 10:15pm EST</span></div></div>,\n",
       " <p>were you kidding?</p>,\n",
       " <div class=\"message\"><div class=\"message_header\"><span class=\"user\">Tigran Asryan</span><span class=\"meta\">Monday, November 11, 2013 at 10:15pm EST</span></div></div>,\n",
       " <p>wait o.k..</p>,\n",
       " <div class=\"message\"><div class=\"message_header\"><span class=\"user\">Phillip Huang</span><span class=\"meta\">Monday, November 11, 2013 at 8:27pm EST</span></div></div>,\n",
       " <p>k</p>,\n",
       " <div class=\"message\"><div class=\"message_header\"><span class=\"user\">Phillip Huang</span><span class=\"meta\">Monday, November 11, 2013 at 8:27pm EST</span></div></div>,\n",
       " <p>not on facebook no</p>,\n",
       " <div class=\"message\"><div class=\"message_header\"><span class=\"user\">Tigran Asryan</span><span class=\"meta\">Monday, November 11, 2013 at 8:27pm EST</span></div></div>,\n",
       " <p>so I'll ask him to make sure you aren't kidding me</p>,\n",
       " <div class=\"message\"><div class=\"message_header\"><span class=\"user\">Tigran Asryan</span><span class=\"meta\">Monday, November 11, 2013 at 8:27pm EST</span></div></div>,\n",
       " <p>Josh isn't online right now</p>,\n",
       " <div class=\"message\"><div class=\"message_header\"><span class=\"user\">Tigran Asryan</span><span class=\"meta\">Monday, November 11, 2013 at 8:23pm EST</span></div></div>]"
      ]
     },
     "execution_count": 45,
     "metadata": {},
     "output_type": "execute_result"
    }
   ],
   "source": [
    "first_content_div.div.contents[:20]"
   ]
  },
  {
   "cell_type": "code",
   "execution_count": 46,
   "metadata": {
    "collapsed": true
   },
   "outputs": [],
   "source": [
    "tigran_chat = first_content_div.div"
   ]
  },
  {
   "cell_type": "code",
   "execution_count": 52,
   "metadata": {
    "collapsed": false
   },
   "outputs": [],
   "source": [
    "tigs_p = tigran_chat.find_all(\"p\")\n",
    "tigs_chat_lst = []\n",
    "for p in tigs_p:\n",
    "    tigs_chat_lst.append(p.text)"
   ]
  },
  {
   "cell_type": "code",
   "execution_count": 54,
   "metadata": {
    "collapsed": true
   },
   "outputs": [],
   "source": [
    "pickle.dump(tigs_chat_lst, open('tigs.p', 'wb'))"
   ]
  }
 ],
 "metadata": {
  "anaconda-cloud": {},
  "kernelspec": {
   "display_name": "Python [Root]",
   "language": "python",
   "name": "Python [Root]"
  },
  "language_info": {
   "codemirror_mode": {
    "name": "ipython",
    "version": 2
   },
   "file_extension": ".py",
   "mimetype": "text/x-python",
   "name": "python",
   "nbconvert_exporter": "python",
   "pygments_lexer": "ipython2",
   "version": "2.7.12"
  }
 },
 "nbformat": 4,
 "nbformat_minor": 0
}
