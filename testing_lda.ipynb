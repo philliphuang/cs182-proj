{
 "cells": [
  {
   "cell_type": "markdown",
   "metadata": {},
   "source": [
    "# LDA Model Testing & Recall@K"
   ]
  },
  {
   "cell_type": "code",
   "execution_count": 8,
   "metadata": {
    "collapsed": false
   },
   "outputs": [],
   "source": [
    "import urllib\n",
    "import pickle\n",
    "import numpy as np\n",
    "import pandas as pd\n",
    "from copy import copy\n",
    "from gensim.models import doc2vec, word2vec\n",
    "import gensim\n",
    "from collections import namedtuple\n",
    "import timeit\n",
    "import csv\n",
    "\n",
    "from modules.evaluation_metrics import recall_at_k\n",
    "import modules.tfidf\n",
    "from sklearn.cluster import KMeans\n",
    "from sklearn.feature_extraction.text import TfidfVectorizer\n",
    "from sklearn.metrics.pairwise import cosine_similarity"
   ]
  },
  {
   "cell_type": "code",
   "execution_count": 19,
   "metadata": {
    "collapsed": true
   },
   "outputs": [],
   "source": [
    "train = pd.read_csv(\"data/train.csv\", nrows=1000)\n",
    "train_data = np.append(train.Context.values,train.Utterance.values)"
   ]
  },
  {
   "cell_type": "code",
   "execution_count": 9,
   "metadata": {
    "collapsed": true
   },
   "outputs": [],
   "source": [
    "model = gensim.models.ldamodel.LdaModel.load('lda_model1')"
   ]
  },
  {
   "cell_type": "code",
   "execution_count": 10,
   "metadata": {
    "collapsed": false
   },
   "outputs": [
    {
     "data": {
      "text/plain": [
       "[(53,\n",
       "  u'0.000*\"na\" + 0.000*\"it/\" + 0.000*\"ddcprobe/xresprob\" + 0.000*\"goal\" + 0.000*\"caus\" + 0.000*\"dinner\" + 0.000*\"*knew*\" + 0.000*\"chute\" + 0.000*\"south\" + 0.000*\"epiphany-browser_1.3.8-0ubuntu3\"'),\n",
       " (29,\n",
       "  u'0.000*\"na\" + 0.000*\"it/\" + 0.000*\"ddcprobe/xresprob\" + 0.000*\"goal\" + 0.000*\"caus\" + 0.000*\"dinner\" + 0.000*\"*knew*\" + 0.000*\"chute\" + 0.000*\"south\" + 0.000*\"epiphany-browser_1.3.8-0ubuntu3\"'),\n",
       " (79,\n",
       "  u'0.053*\"__eou__\" + 0.033*\"to\" + 0.018*\"for\" + 0.018*\"basic\" + 0.018*\"do\" + 0.017*\".\" + 0.017*\"of\" + 0.016*\"each\" + 0.016*\"upgrad\" + 0.015*\"font\"'),\n",
       " (67,\n",
       "  u'0.045*\"__eou__\" + 0.021*\"?\" + 0.019*\"__eot__\" + 0.015*\"the\" + 0.014*\"to\" + 0.009*\"this\" + 0.009*\"from\" + 0.009*\"that\" + 0.008*\"\\'\\'\" + 0.007*\",\"'),\n",
       " (68,\n",
       "  u'0.070*\"i\" + 0.023*\"around..\" + 0.023*\"apoligize..\" + 0.023*\"wrong\" + 0.023*\"it\" + 0.023*\"seem\" + 0.023*\"the\" + 0.023*\"lookin\" + 0.023*\"spot\" + 0.023*\"home/tristan..\"'),\n",
       " (87,\n",
       "  u'0.000*\"na\" + 0.000*\"it/\" + 0.000*\"ddcprobe/xresprob\" + 0.000*\"goal\" + 0.000*\"caus\" + 0.000*\"dinner\" + 0.000*\"*knew*\" + 0.000*\"chute\" + 0.000*\"south\" + 0.000*\"epiphany-browser_1.3.8-0ubuntu3\"'),\n",
       " (37,\n",
       "  u'0.108*\"__eou__\" + 0.033*\"__eot__\" + 0.025*\",\" + 0.017*\"?\" + 0.016*\"it\" + 0.013*\")\" + 0.013*\"an\" + 0.013*\"be\" + 0.012*\"the\" + 0.010*\"\\'s\"'),\n",
       " (5,\n",
       "  u'0.000*\"na\" + 0.000*\"it/\" + 0.000*\"ddcprobe/xresprob\" + 0.000*\"goal\" + 0.000*\"caus\" + 0.000*\"dinner\" + 0.000*\"*knew*\" + 0.000*\"chute\" + 0.000*\"south\" + 0.000*\"epiphany-browser_1.3.8-0ubuntu3\"'),\n",
       " (41,\n",
       "  u'0.036*\"__eou__\" + 0.036*\"a\" + 0.036*\"need\" + 0.036*\"apt\" + 0.036*\"new\" + 0.036*\"i\" + 0.000*\"na\" + 0.000*\"*knew*\" + 0.000*\"it/\" + 0.000*\"build-depend\"'),\n",
       " (81,\n",
       "  u'0.092*\"__eou__\" + 0.033*\",\" + 0.031*\"__eot__\" + 0.024*\"?\" + 0.020*\"the\" + 0.020*\"you\" + 0.016*\"be\" + 0.016*\"have\" + 0.015*\"to\" + 0.011*\"``\"'),\n",
       " (9,\n",
       "  u'0.064*\"__eou__\" + 0.032*\"do\" + 0.032*\"xp\" + 0.032*\"now\" + 0.032*\"i\" + 0.032*\"can\" + 0.032*\"what\" + 0.032*\"plz\" + 0.000*\"build-depend\" + 0.000*\"assumpt\"'),\n",
       " (27,\n",
       "  u'0.062*\",\" + 0.044*\"i\" + 0.030*\"__eou__\" + 0.020*\"it\" + 0.020*\"so\" + 0.017*\"have\" + 0.017*\"do\" + 0.017*\"n\\'t\" + 0.016*\"never\" + 0.016*\"xp\"'),\n",
       " (63,\n",
       "  u'0.093*\"__eou__\" + 0.047*\"__eot__\" + 0.037*\",\" + 0.031*\"the\" + 0.025*\"?\" + 0.023*\"i\" + 0.021*\"be\" + 0.016*\"it\" + 0.015*\"you\" + 0.013*\"a\"'),\n",
       " (22,\n",
       "  u'0.000*\"na\" + 0.000*\"it/\" + 0.000*\"ddcprobe/xresprob\" + 0.000*\"goal\" + 0.000*\"caus\" + 0.000*\"dinner\" + 0.000*\"*knew*\" + 0.000*\"chute\" + 0.000*\"south\" + 0.000*\"epiphany-browser_1.3.8-0ubuntu3\"'),\n",
       " (58,\n",
       "  u'0.047*\"__eou__\" + 0.033*\"at\" + 0.033*\"look\" + 0.033*\"/usr/share/doc/binutils/\" + 0.033*\"then\" + 0.008*\"__eot__\" + 0.006*\"?\" + 0.006*\"build\" + 0.005*\"warti\" + 0.005*\"in\"'),\n",
       " (70,\n",
       "  u'0.023*\"__eou__\" + 0.013*\"__eot__\" + 0.011*\"i\" + 0.011*\",\" + 0.010*\"the\" + 0.009*\"be\" + 0.009*\"do\" + 0.007*\"?\" + 0.007*\"and\" + 0.007*\"...\"'),\n",
       " (40,\n",
       "  u'0.080*\"__eou__\" + 0.042*\"__eot__\" + 0.035*\",\" + 0.029*\"the\" + 0.024*\"be\" + 0.024*\"?\" + 0.021*\"i\" + 0.021*\"a\" + 0.017*\"do\" + 0.016*\"you\"'),\n",
       " (17,\n",
       "  u'0.000*\"na\" + 0.000*\"it/\" + 0.000*\"ddcprobe/xresprob\" + 0.000*\"goal\" + 0.000*\"caus\" + 0.000*\"dinner\" + 0.000*\"*knew*\" + 0.000*\"chute\" + 0.000*\"south\" + 0.000*\"epiphany-browser_1.3.8-0ubuntu3\"'),\n",
       " (15,\n",
       "  u'0.083*\"__eou__\" + 0.049*\",\" + 0.048*\"__eot__\" + 0.025*\"the\" + 0.024*\"?\" + 0.023*\"i\" + 0.021*\"be\" + 0.020*\"it\" + 0.019*\"to\" + 0.019*\"you\"'),\n",
       " (42,\n",
       "  u'0.059*\"__eou__\" + 0.033*\"__eot__\" + 0.022*\"be\" + 0.022*\"the\" + 0.022*\"?\" + 0.019*\"that\" + 0.019*\"\\'s\" + 0.018*\"i\" + 0.018*\".\" + 0.016*\"you\"')]"
      ]
     },
     "execution_count": 10,
     "metadata": {},
     "output_type": "execute_result"
    }
   ],
   "source": [
    "model.print_topics(20)"
   ]
  },
  {
   "cell_type": "code",
   "execution_count": 23,
   "metadata": {
    "collapsed": false
   },
   "outputs": [
    {
     "data": {
      "text/plain": [
       "[(36, 0.99605577689224811)]"
      ]
     },
     "execution_count": 23,
     "metadata": {},
     "output_type": "execute_result"
    }
   ],
   "source": [
    "model.get_document_topics(dictionary.doc2bow(train_data[0].split()))"
   ]
  },
  {
   "cell_type": "code",
   "execution_count": null,
   "metadata": {
    "collapsed": true
   },
   "outputs": [],
   "source": []
  }
 ],
 "metadata": {
  "anaconda-cloud": {},
  "kernelspec": {
   "display_name": "Python [Root]",
   "language": "python",
   "name": "Python [Root]"
  },
  "language_info": {
   "codemirror_mode": {
    "name": "ipython",
    "version": 2
   },
   "file_extension": ".py",
   "mimetype": "text/x-python",
   "name": "python",
   "nbconvert_exporter": "python",
   "pygments_lexer": "ipython2",
   "version": "2.7.12"
  }
 },
 "nbformat": 4,
 "nbformat_minor": 0
}
